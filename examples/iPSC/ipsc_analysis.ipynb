{
 "cells": [
  {
   "cell_type": "code",
   "execution_count": 1,
   "id": "9df362e2-1277-4731-a304-bbc69a904bd8",
   "metadata": {},
   "outputs": [
    {
     "data": {
      "text/html": [
       "\n",
       "\t\t\t<script type=\"text/javascript\">\n",
       "\t\t\t<!--\n",
       "\t\t\t\t\n",
       "\t\t\t{\n",
       "\t\t\t\tvar element = document.getElementById('NetworKit_script');\n",
       "\t\t\t\tif (element) {\n",
       "\t\t\t\t\telement.parentNode.removeChild(element);\n",
       "\t\t\t\t}\n",
       "\t\t\t\telement = document.createElement('script');\n",
       "\t\t\t\telement.type = 'text/javascript';\n",
       "\t\t\t\telement.innerHTML = 'function NetworKit_pageEmbed(id) { var i, j; var elements; elements = document.getElementById(id).getElementsByClassName(\"Plot\"); for (i=0; i<elements.length; i++) { elements[i].id = id + \"_Plot_\" + i; var data = elements[i].getAttribute(\"data-image\").split(\"|\"); elements[i].removeAttribute(\"data-image\"); var content = \"<div class=\\\\\"Image\\\\\" id=\\\\\"\" + elements[i].id + \"_Image\\\\\" />\"; elements[i].innerHTML = content; elements[i].setAttribute(\"data-image-index\", 0); elements[i].setAttribute(\"data-image-length\", data.length); for (j=0; j<data.length; j++) { elements[i].setAttribute(\"data-image-\" + j, data[j]); } NetworKit_plotUpdate(elements[i]); elements[i].onclick = function (e) { NetworKit_overlayShow((e.target) ? e.target : e.srcElement); } } elements = document.getElementById(id).getElementsByClassName(\"HeatCell\"); for (i=0; i<elements.length; i++) { var data = parseFloat(elements[i].getAttribute(\"data-heat\")); var color = \"#00FF00\"; if (data <= 1 && data > 0) { color = \"hsla(0, 100%, 75%, \" + (data) + \")\"; } else if (data <= 0 && data >= -1) { color = \"hsla(240, 100%, 75%, \" + (-data) + \")\"; } elements[i].style.backgroundColor = color; } elements = document.getElementById(id).getElementsByClassName(\"Details\"); for (i=0; i<elements.length; i++) { elements[i].setAttribute(\"data-title\", \"-\"); NetworKit_toggleDetails(elements[i]); elements[i].onclick = function (e) { NetworKit_toggleDetails((e.target) ? e.target : e.srcElement); } } elements = document.getElementById(id).getElementsByClassName(\"MathValue\"); for (i=elements.length-1; i>=0; i--) { value = elements[i].innerHTML.trim(); if (value === \"nan\") { elements[i].parentNode.innerHTML = \"\" } } elements = document.getElementById(id).getElementsByClassName(\"SubCategory\"); for (i=elements.length-1; i>=0; i--) { value = elements[i].innerHTML.trim(); if (value === \"\") { elements[i].parentNode.removeChild(elements[i]) } } elements = document.getElementById(id).getElementsByClassName(\"Category\"); for (i=elements.length-1; i>=0; i--) { value = elements[i].innerHTML.trim(); if (value === \"\") { elements[i].parentNode.removeChild(elements[i]) } } var isFirefox = false; try { isFirefox = typeof InstallTrigger !== \"undefined\"; } catch (e) {} if (!isFirefox) { alert(\"Currently the function\\'s output is only fully supported by Firefox.\"); } } function NetworKit_plotUpdate(source) { var index = source.getAttribute(\"data-image-index\"); var data = source.getAttribute(\"data-image-\" + index); var image = document.getElementById(source.id + \"_Image\"); image.style.backgroundImage = \"url(\" + data + \")\"; } function NetworKit_showElement(id, show) { var element = document.getElementById(id); element.style.display = (show) ? \"block\" : \"none\"; } function NetworKit_overlayShow(source) { NetworKit_overlayUpdate(source); NetworKit_showElement(\"NetworKit_Overlay\", true); } function NetworKit_overlayUpdate(source) { document.getElementById(\"NetworKit_Overlay_Title\").innerHTML = source.title; var index = source.getAttribute(\"data-image-index\"); var data = source.getAttribute(\"data-image-\" + index); var image = document.getElementById(\"NetworKit_Overlay_Image\"); image.setAttribute(\"data-id\", source.id); image.style.backgroundImage = \"url(\" + data + \")\"; var link = document.getElementById(\"NetworKit_Overlay_Toolbar_Bottom_Save\"); link.href = data; link.download = source.title + \".svg\"; } function NetworKit_overlayImageShift(delta) { var image = document.getElementById(\"NetworKit_Overlay_Image\"); var source = document.getElementById(image.getAttribute(\"data-id\")); var index = parseInt(source.getAttribute(\"data-image-index\")); var length = parseInt(source.getAttribute(\"data-image-length\")); var index = (index+delta) % length; if (index < 0) { index = length + index; } source.setAttribute(\"data-image-index\", index); NetworKit_overlayUpdate(source); } function NetworKit_toggleDetails(source) { var childs = source.children; var show = false; if (source.getAttribute(\"data-title\") == \"-\") { source.setAttribute(\"data-title\", \"+\"); show = false; } else { source.setAttribute(\"data-title\", \"-\"); show = true; } for (i=0; i<childs.length; i++) { if (show) { childs[i].style.display = \"block\"; } else { childs[i].style.display = \"none\"; } } }';\n",
       "\t\t\t\telement.setAttribute('id', 'NetworKit_script');\n",
       "\t\t\t\tdocument.head.appendChild(element);\n",
       "\t\t\t}\n",
       "\t\t\n",
       "\t\t\t\t\n",
       "\t\t\t{\n",
       "\t\t\t\tvar element = document.getElementById('NetworKit_style');\n",
       "\t\t\t\tif (element) {\n",
       "\t\t\t\t\telement.parentNode.removeChild(element);\n",
       "\t\t\t\t}\n",
       "\t\t\t\telement = document.createElement('style');\n",
       "\t\t\t\telement.type = 'text/css';\n",
       "\t\t\t\telement.innerHTML = '.NetworKit_Page { font-family: Arial, Helvetica, sans-serif; font-size: 14px; } .NetworKit_Page .Value:before { font-family: Arial, Helvetica, sans-serif; font-size: 1.05em; content: attr(data-title) \":\"; margin-left: -2.5em; padding-right: 0.5em; } .NetworKit_Page .Details .Value:before { display: block; } .NetworKit_Page .Value { font-family: monospace; white-space: pre; padding-left: 2.5em; white-space: -moz-pre-wrap !important; white-space: -pre-wrap; white-space: -o-pre-wrap; white-space: pre-wrap; word-wrap: break-word; tab-size: 4; -moz-tab-size: 4; } .NetworKit_Page .Category { clear: both; padding-left: 1em; margin-bottom: 1.5em; } .NetworKit_Page .Category:before { content: attr(data-title); font-size: 1.75em; display: block; margin-left: -0.8em; margin-bottom: 0.5em; } .NetworKit_Page .SubCategory { margin-bottom: 1.5em; padding-left: 1em; } .NetworKit_Page .SubCategory:before { font-size: 1.6em; display: block; margin-left: -0.8em; margin-bottom: 0.5em; } .NetworKit_Page .SubCategory[data-title]:before { content: attr(data-title); } .NetworKit_Page .Block { display: block; } .NetworKit_Page .Block:after { content: \".\"; visibility: hidden; display: block; height: 0; clear: both; } .NetworKit_Page .Block .Thumbnail_Overview, .NetworKit_Page .Block .Thumbnail_ScatterPlot { width: 260px; float: left; } .NetworKit_Page .Block .Thumbnail_Overview img, .NetworKit_Page .Block .Thumbnail_ScatterPlot img { width: 260px; } .NetworKit_Page .Block .Thumbnail_Overview:before, .NetworKit_Page .Block .Thumbnail_ScatterPlot:before { display: block; text-align: center; font-weight: bold; } .NetworKit_Page .Block .Thumbnail_Overview:before { content: attr(data-title); } .NetworKit_Page .HeatCell { font-family: \"Courier New\", Courier, monospace; cursor: pointer; } .NetworKit_Page .HeatCell, .NetworKit_Page .HeatCellName { display: inline; padding: 0.1em; margin-right: 2px; background-color: #FFFFFF } .NetworKit_Page .HeatCellName { margin-left: 0.25em; } .NetworKit_Page .HeatCell:before { content: attr(data-heat); display: inline-block; color: #000000; width: 4em; text-align: center; } .NetworKit_Page .Measure { clear: both; } .NetworKit_Page .Measure .Details { cursor: pointer; } .NetworKit_Page .Measure .Details:before { content: \"[\" attr(data-title) \"]\"; display: block; } .NetworKit_Page .Measure .Details .Value { border-left: 1px dotted black; margin-left: 0.4em; padding-left: 3.5em; pointer-events: none; } .NetworKit_Page .Measure .Details .Spacer:before { content: \".\"; opacity: 0.0; pointer-events: none; } .NetworKit_Page .Measure .Plot { width: 440px; height: 440px; cursor: pointer; float: left; margin-left: -0.9em; margin-right: 20px; } .NetworKit_Page .Measure .Plot .Image { background-repeat: no-repeat; background-position: center center; background-size: contain; height: 100%; pointer-events: none; } .NetworKit_Page .Measure .Stat { width: 500px; float: left; } .NetworKit_Page .Measure .Stat .Group { padding-left: 1.25em; margin-bottom: 0.75em; } .NetworKit_Page .Measure .Stat .Group .Title { font-size: 1.1em; display: block; margin-bottom: 0.3em; margin-left: -0.75em; border-right-style: dotted; border-right-width: 1px; border-bottom-style: dotted; border-bottom-width: 1px; background-color: #D0D0D0; padding-left: 0.2em; } .NetworKit_Page .Measure .Stat .Group .List { -webkit-column-count: 3; -moz-column-count: 3; column-count: 3; } .NetworKit_Page .Measure .Stat .Group .List .Entry { position: relative; line-height: 1.75em; } .NetworKit_Page .Measure .Stat .Group .List .Entry[data-tooltip]:before { position: absolute; left: 0; top: -40px; background-color: #808080; color: #ffffff; height: 30px; line-height: 30px; border-radius: 5px; padding: 0 15px; content: attr(data-tooltip); white-space: nowrap; display: none; } .NetworKit_Page .Measure .Stat .Group .List .Entry[data-tooltip]:after { position: absolute; left: 15px; top: -10px; border-top: 7px solid #808080; border-left: 7px solid transparent; border-right: 7px solid transparent; content: \"\"; display: none; } .NetworKit_Page .Measure .Stat .Group .List .Entry[data-tooltip]:hover:after, .NetworKit_Page .Measure .Stat .Group .List .Entry[data-tooltip]:hover:before { display: block; } .NetworKit_Page .Measure .Stat .Group .List .Entry .MathValue { font-family: \"Courier New\", Courier, monospace; } .NetworKit_Page .Measure:after { content: \".\"; visibility: hidden; display: block; height: 0; clear: both; } .NetworKit_Page .PartitionPie { clear: both; } .NetworKit_Page .PartitionPie img { width: 600px; } #NetworKit_Overlay { left: 0px; top: 0px; display: none; position: absolute; width: 100%; height: 100%; background-color: rgba(0,0,0,0.6); z-index: 1000; } #NetworKit_Overlay_Title { position: absolute; color: white; transform: rotate(-90deg); width: 32em; height: 32em; padding-right: 0.5em; padding-top: 0.5em; text-align: right; font-size: 40px; } #NetworKit_Overlay .button { background: white; cursor: pointer; } #NetworKit_Overlay .button:before { size: 13px; display: inline-block; text-align: center; margin-top: 0.5em; margin-bottom: 0.5em; width: 1.5em; height: 1.5em; } #NetworKit_Overlay .icon-close:before { content: \"X\"; } #NetworKit_Overlay .icon-previous:before { content: \"P\"; } #NetworKit_Overlay .icon-next:before { content: \"N\"; } #NetworKit_Overlay .icon-save:before { content: \"S\"; } #NetworKit_Overlay_Toolbar_Top, #NetworKit_Overlay_Toolbar_Bottom { position: absolute; width: 40px; right: 13px; text-align: right; z-index: 1100; } #NetworKit_Overlay_Toolbar_Top { top: 0.5em; } #NetworKit_Overlay_Toolbar_Bottom { Bottom: 0.5em; } #NetworKit_Overlay_ImageContainer { position: absolute; top: 5%; left: 5%; height: 90%; width: 90%; background-repeat: no-repeat; background-position: center center; background-size: contain; } #NetworKit_Overlay_Image { height: 100%; width: 100%; background-repeat: no-repeat; background-position: center center; background-size: contain; }';\n",
       "\t\t\t\telement.setAttribute('id', 'NetworKit_style');\n",
       "\t\t\t\tdocument.head.appendChild(element);\n",
       "\t\t\t}\n",
       "\t\t\n",
       "\t\t\t\t\n",
       "\t\t\t{\n",
       "\t\t\t\tvar element = document.getElementById('NetworKit_Overlay');\n",
       "\t\t\t\tif (element) {\n",
       "\t\t\t\t\telement.parentNode.removeChild(element);\n",
       "\t\t\t\t}\n",
       "\t\t\t\telement = document.createElement('div');\n",
       "\t\t\t\telement.innerHTML = '<div id=\"NetworKit_Overlay_Toolbar_Top\"><div class=\"button icon-close\" id=\"NetworKit_Overlay_Close\" /></div><div id=\"NetworKit_Overlay_Title\" /> <div id=\"NetworKit_Overlay_ImageContainer\"> <div id=\"NetworKit_Overlay_Image\" /> </div> <div id=\"NetworKit_Overlay_Toolbar_Bottom\"> <div class=\"button icon-previous\" onclick=\"NetworKit_overlayImageShift(-1)\" /> <div class=\"button icon-next\" onclick=\"NetworKit_overlayImageShift(1)\" /> <a id=\"NetworKit_Overlay_Toolbar_Bottom_Save\"><div class=\"button icon-save\" /></a> </div>';\n",
       "\t\t\t\telement.setAttribute('id', 'NetworKit_Overlay');\n",
       "\t\t\t\tdocument.body.appendChild(element);\n",
       "\t\t\t\tdocument.getElementById('NetworKit_Overlay_Close').onclick = function (e) {\n",
       "\t\t\t\t\tdocument.getElementById('NetworKit_Overlay').style.display = 'none';\n",
       "\t\t\t\t}\n",
       "\t\t\t}\n",
       "\t\t\n",
       "\t\t\t-->\n",
       "\t\t\t</script>\n",
       "\t\t"
      ]
     },
     "metadata": {},
     "output_type": "display_data"
    }
   ],
   "source": [
    "import numpy as np\n",
    "import scipy as sp\n",
    "import scgeom as sg\n",
    "import scanpy as sc\n",
    "import pandas as pd\n",
    "import networkx as nx\n",
    "import matplotlib.pyplot as plt\n",
    "from scipy.spatial import distance_matrix\n",
    "from scipy.stats import spearmanr, pearsonr, ranksums\n",
    "\n",
    "import matplotlib as mpl\n",
    "plt.rcParams[\"font.family\"] = \"arial\"\n",
    "mpl.rcParams['font.size'] = 14"
   ]
  },
  {
   "cell_type": "code",
   "execution_count": 2,
   "id": "d795fc25-2b7d-4b61-b4f5-9ad08490be3a",
   "metadata": {},
   "outputs": [],
   "source": [
    "adata = sc.read('./data/ipsc.h5ad')"
   ]
  },
  {
   "cell_type": "code",
   "execution_count": 3,
   "id": "a426a704-48b3-4f69-bc05-dff5bd59af29",
   "metadata": {},
   "outputs": [],
   "source": [
    "sc.pp.pca(adata)"
   ]
  },
  {
   "cell_type": "code",
   "execution_count": 4,
   "id": "2fa58cae-9dff-476b-90c6-b772bf281ca5",
   "metadata": {},
   "outputs": [],
   "source": [
    "sc.pp.neighbors(adata,metric = 'euclidean',n_neighbors=50, use_rep='X_pca', n_pcs=10)\n",
    "sc.tl.umap(adata, random_state=1)\n",
    "X_umap = adata.obsm['X_umap']"
   ]
  },
  {
   "cell_type": "code",
   "execution_count": 5,
   "id": "26eb207a-0057-4e9b-85b8-fa806cc020ba",
   "metadata": {},
   "outputs": [],
   "source": [
    "sc.tl.leiden(adata,resolution = 1.75)"
   ]
  },
  {
   "cell_type": "code",
   "execution_count": 6,
   "id": "8ecab81f-be33-4508-916d-31f2f1e9cd32",
   "metadata": {},
   "outputs": [
    {
     "data": {
      "image/png": "[encoded data removed]",
      "text/plain": [
       "<Figure size 640x480 with 1 Axes>"
      ]
     },
     "metadata": {},
     "output_type": "display_data"
    }
   ],
   "source": [
    "import plotly\n",
    "colors = plotly.colors.qualitative.Plotly\n",
    "celltypes = np.sort(list(set(adata.obs['leiden'])))\n",
    "celltype_vec = adata.obs['leiden']\n",
    "cnt = 0\n",
    "for celltype in celltypes:\n",
    "    idx = np.where(celltype_vec == celltype)[0]\n",
    "    plt.scatter(X_umap[idx,0], X_umap[idx,1], c=colors[cnt], label=celltype, s=15)\n",
    "    cnt += 1\n",
    "plt.axis('equal')\n",
    "plt.axis('off')\n",
    "plt.grid(False)\n",
    "plt.legend(loc=[1.01,0])\n",
    "plt.tight_layout()"
   ]
  },
  {
   "cell_type": "code",
   "execution_count": 7,
   "id": "f6f99ff4-7580-42dc-a81b-bf99d5b00572",
   "metadata": {},
   "outputs": [
    {
     "data": {
      "image/png": "[encoded data removed]",
      "text/plain": [
       "<Figure size 2560x1440 with 9 Axes>"
      ]
     },
     "metadata": {},
     "output_type": "display_data"
    }
   ],
   "source": [
    "sc.tl.rank_genes_groups(adata, groupby='leiden', method='wilcoxon')\n",
    "sc.pl.rank_genes_groups(adata)"
   ]
  },
  {
   "cell_type": "code",
   "execution_count": 8,
   "id": "3042bb58-2a7a-4cfc-bf86-541471bc0f21",
   "metadata": {},
   "outputs": [],
   "source": [
    "sc.pp.pca(adata)\n",
    "X_pca = np.array( adata.obsm['X_pca'] )\n",
    "X_umap = np.array( adata.obsm['X_umap'] )"
   ]
  },
  {
   "cell_type": "code",
   "execution_count": 9,
   "id": "6407dc80-6250-4772-83bb-f6b0c05e2b5b",
   "metadata": {},
   "outputs": [
    {
     "data": {
      "image/png": "[encoded data removed]",
      "text/plain": [
       "<Figure size 640x480 with 1 Axes>"
      ]
     },
     "metadata": {},
     "output_type": "display_data"
    }
   ],
   "source": [
    "import plotly.express as px\n",
    "colors = np.array(px.colors.sequential.Viridis)[np.array([0,1,3,5,7,9])]\n",
    "times = np.array( adata.obs['time'] )\n",
    "unique_times = np.sort(list(set(times)))\n",
    "for i in range(len(unique_times)):\n",
    "    idx = np.where(times == unique_times[i])[0]\n",
    "    plt.scatter(X_umap[idx,0], X_umap[idx,1], c=colors[i], label=unique_times[i], s=15)\n",
    "plt.legend(loc=[1.01,0], markerscale=3)\n",
    "plt.axis('off')\n",
    "plt.axis('equal')\n",
    "plt.grid(False)\n",
    "plt.tight_layout()"
   ]
  },
  {
   "cell_type": "code",
   "execution_count": 10,
   "id": "5c486ec3-19bd-4ea1-8c6f-518bd947e2e3",
   "metadata": {},
   "outputs": [],
   "source": [
    "D = distance_matrix(X_pca[:,:20], X_pca[:,:20])\n",
    "sg.tl.neighbor_graph(adata, D=D, knn_k=80, weighted=False, graph_name='curvature_graph')"
   ]
  },
  {
   "cell_type": "code",
   "execution_count": 11,
   "id": "777c2a24-4cad-4881-a711-5d544f261804",
   "metadata": {},
   "outputs": [],
   "source": [
    "sg.tl.graph_curvature(adata, curvature_method='orc', orc_alpha=0.5, graph_name='curvature_graph')"
   ]
  },
  {
   "cell_type": "code",
   "execution_count": 12,
   "id": "ff2e243a-cfe8-4657-b79a-f6c6632ddf11",
   "metadata": {},
   "outputs": [
    {
     "data": {
      "text/plain": [
       "(-6.385383296012878, 12.324489760398865, 2.1281673550605773, 18.11997035741806)"
      ]
     },
     "execution_count": 12,
     "metadata": {},
     "output_type": "execute_result"
    },
    {
     "data": {
      "image/png": "[encoded data removed]",
      "text/plain": [
       "<Figure size 640x480 with 2 Axes>"
      ]
     },
     "metadata": {},
     "output_type": "display_data"
    }
   ],
   "source": [
    "c = adata.obs['scgeom-node_curvature']\n",
    "idx = np.argsort(-c)\n",
    "plt.scatter(X_umap[idx,0], X_umap[idx,1], c=c[idx], cmap='coolwarm', s=15)\n",
    "plt.colorbar()\n",
    "plt.axis('equal')\n",
    "plt.grid(False)\n",
    "plt.axis('off')"
   ]
  },
  {
   "cell_type": "code",
   "execution_count": 13,
   "id": "be37dbc0-e90b-43c1-adb2-0d498dd0efb8",
   "metadata": {
    "scrolled": true
   },
   "outputs": [
    {
     "name": "stdout",
     "output_type": "stream",
     "text": [
      "0\n",
      "20\n",
      "40\n",
      "60\n",
      "80\n",
      "100\n",
      "120\n",
      "140\n",
      "160\n",
      "180\n",
      "200\n",
      "220\n",
      "240\n",
      "260\n",
      "280\n",
      "300\n",
      "320\n",
      "340\n",
      "360\n",
      "380\n",
      "400\n",
      "420\n",
      "440\n",
      "460\n",
      "480\n",
      "500\n",
      "520\n",
      "540\n",
      "560\n",
      "580\n",
      "600\n",
      "620\n",
      "640\n",
      "660\n",
      "680\n",
      "700\n",
      "720\n",
      "740\n",
      "760\n",
      "780\n",
      "800\n",
      "820\n",
      "840\n",
      "860\n",
      "880\n",
      "900\n",
      "920\n",
      "940\n",
      "960\n",
      "980\n",
      "1000\n",
      "1020\n",
      "1040\n",
      "1060\n",
      "1080\n",
      "Done\n"
     ]
    }
   ],
   "source": [
    "adata.obsm['X_pca'] = adata.obsm['X_pca'][:,:20]\n",
    "sg.tl.cell_network_topology(adata, network_name = 'connectivities', embedding_name = 'X_pca', nb_method = 'knn',\n",
    "        nb_knn=100, max_filtration = 15, max_dim=1, method = 'lwph', uns_name='diagrams_cell_network_lwph')"
   ]
  },
  {
   "cell_type": "code",
   "execution_count": 14,
   "id": "fa01c7e1-4030-4c72-8892-3bde24c98aed",
   "metadata": {},
   "outputs": [],
   "source": [
    "sg.tl.generate_topology_feature(adata, method='tp', diagram_name='diagrams_cell_network_lwph', feature_name='X_topo_tp',\n",
    "    inf_value = 'replace_max', dims=[0,1])"
   ]
  },
  {
   "cell_type": "code",
   "execution_count": 15,
   "id": "8d9852a5-db13-4c68-b1cd-7f115bdda127",
   "metadata": {},
   "outputs": [],
   "source": [
    "sg.tl.generate_topology_feature(adata, method='pe', diagram_name='diagrams_cell_network_lwph', feature_name='X_topo_pe',\n",
    "    inf_value = 'replace_max', dims=[0,1])"
   ]
  },
  {
   "cell_type": "markdown",
   "id": "c687d2b3-28a9-40aa-b99e-89c4478546fb",
   "metadata": {},
   "source": [
    "#### **H0 total persistence of local weighted persistent homology (lwph) of cell network**"
   ]
  },
  {
   "cell_type": "code",
   "execution_count": 16,
   "id": "ea07db47-537c-45f3-ab23-493b19dc71b5",
   "metadata": {},
   "outputs": [
    {
     "data": {
      "text/plain": [
       "(-6.385383296012878, 12.324489760398865, 2.1281673550605773, 18.11997035741806)"
      ]
     },
     "execution_count": 16,
     "metadata": {},
     "output_type": "execute_result"
    },
    {
     "data": {
      "image/png": "[encoded data removed]",
      "text/plain": [
       "<Figure size 640x480 with 2 Axes>"
      ]
     },
     "metadata": {},
     "output_type": "display_data"
    }
   ],
   "source": [
    "plt.scatter(X_umap[:,0], X_umap[:,1], c=adata.obsm['X_topo_tp'][:,0], cmap='coolwarm', s=15)\n",
    "plt.colorbar()\n",
    "plt.grid(False)\n",
    "plt.axis('equal')\n",
    "plt.axis('off')"
   ]
  },
  {
   "cell_type": "code",
   "execution_count": 17,
   "id": "839c23cd-883e-47b0-b856-80a0c348fec2",
   "metadata": {},
   "outputs": [],
   "source": [
    "times_str = np.array(times, str)"
   ]
  },
  {
   "cell_type": "code",
   "execution_count": 18,
   "id": "0c0ce28d-ae90-45d2-807c-f32bf17b8fdf",
   "metadata": {},
   "outputs": [],
   "source": [
    "df_ipsc = pd.DataFrame({'time': times_str, 'curvature': adata.obs['scgeom-node_curvature'],\n",
    "    'lwph_h0_tp': adata.obsm['X_topo_tp'][:,0], 'lwph_h1_tp': adata.obsm['X_topo_tp'][:,1],\n",
    "    'lwph_h0_pe': adata.obsm['X_topo_pe'][:,0], 'lwph_h1_pe': adata.obsm['X_topo_pe'][:,1]})"
   ]
  },
  {
   "cell_type": "code",
   "execution_count": 19,
   "id": "be14adbd-a958-4218-98e0-e494e4f493c4",
   "metadata": {},
   "outputs": [
    {
     "name": "stdout",
     "output_type": "stream",
     "text": [
      "0.0 1.0 RanksumsResult(statistic=-16.656246236925785, pvalue=2.7260595470031884e-62)\n",
      "1.0 1.5 RanksumsResult(statistic=-12.881448557604479, pvalue=5.725083671499813e-38)\n",
      "1.5 2.0 RanksumsResult(statistic=7.651263472606095, pvalue=1.9901410203478054e-14)\n",
      "2.0 2.5 RanksumsResult(statistic=-7.5207799334856436, pvalue=5.445043454930249e-14)\n",
      "2.5 3.0 RanksumsResult(statistic=10.154234638930808, pvalue=3.1728987436749095e-24)\n"
     ]
    }
   ],
   "source": [
    "x_h0_tp = adata.obsm['X_topo_tp'][:,0]\n",
    "x_h1_tp = adata.obsm['X_topo_tp'][:,1]\n",
    "x_h0_pe = adata.obsm['X_topo_pe'][:,0]\n",
    "x_h1_pe = adata.obsm['X_topo_pe'][:,1]\n",
    "x_curvature = adata.obs['scgeom-node_curvature']\n",
    "xx = x_h0_tp.copy()\n",
    "for i in range(len(unique_times)-1):\n",
    "    idx_i = np.where(times==unique_times[i])[0]\n",
    "    idx_ip1 = np.where(times==unique_times[i+1])[0]\n",
    "    xi = xx[idx_i]\n",
    "    xip1 = xx[idx_ip1]\n",
    "    print(unique_times[i], unique_times[i+1], ranksums(xi,xip1))"
   ]
  },
  {
   "cell_type": "code",
   "execution_count": 20,
   "id": "6273d004-18d2-40a6-8560-fa83e09da470",
   "metadata": {},
   "outputs": [
    {
     "name": "stdout",
     "output_type": "stream",
     "text": [
      "0.0 1.0 RanksumsResult(statistic=0.43449535009016366, pvalue=0.6639287707150952)\n",
      "1.0 1.5 RanksumsResult(statistic=7.8222380234366, pvalue=5.189236934507952e-15)\n",
      "1.5 2.0 RanksumsResult(statistic=-7.93304406500891, pvalue=2.138385142449682e-15)\n",
      "2.0 2.5 RanksumsResult(statistic=7.076574269805059, pvalue=1.4776157910649583e-12)\n",
      "2.5 3.0 RanksumsResult(statistic=-11.903791961705902, pvalue=1.1308915649033523e-32)\n"
     ]
    }
   ],
   "source": [
    "x_h0_tp = adata.obsm['X_topo_tp'][:,0]\n",
    "x_h1_tp = adata.obsm['X_topo_tp'][:,1]\n",
    "x_h0_pe = adata.obsm['X_topo_pe'][:,0]\n",
    "x_h1_pe = adata.obsm['X_topo_pe'][:,1]\n",
    "x_curvature = adata.obs['scgeom-node_curvature']\n",
    "xx = x_curvature.copy()\n",
    "for i in range(len(unique_times)-1):\n",
    "    idx_i = np.where(times==unique_times[i])[0]\n",
    "    idx_ip1 = np.where(times==unique_times[i+1])[0]\n",
    "    xi = xx[idx_i]\n",
    "    xip1 = xx[idx_ip1]\n",
    "    print(unique_times[i], unique_times[i+1], ranksums(xi,xip1))"
   ]
  },
  {
   "cell_type": "code",
   "execution_count": 23,
   "id": "26d37054-bef9-4f60-9a7c-e1fa527cbc73",
   "metadata": {},
   "outputs": [
    {
     "data": {
      "application/vnd.plotly.v1+json": {
       "config": {
        "plotlyServerURL": "https://plot.ly"
       },
       "data": [
        {
         "boxpoints": "all",
         "fillcolor": "#440154",
         "jitter": 0.2,
         "line": {
          "color": "#444",
          "width": 1
         },
         "marker": {
          "color": "#440154",
          "size": 2
         },
         "name": "d0",
         "type": "box",
         "whiskerwidth": 0.5,
         "y": [
          36.44801658311406,
          39.06345057943438,
          20.151781351233176,
          26.82204322119698,
          19.941431055129982,
          31.285372567253905,
          24.663667398437823,
          8.214545855708046,
          11.889628203375256,
          13.691755797259598,
          24.812708348634743,
          11.09111324432655,
          13.972306087400304,
          28.298708914469632,
          13.728537094821567,
          23.289127785430217,
          29.5645130595108,
          7.292652185413164,
          17.014836200130418,
          14.164307874828712,
          14.857226238713132,
          15.933884793601191,
          15.165594090976814,
          25.288786510984675,
          18.145745900688475,
          18.852579770592726,
          11.855623195867203,
          20.144389113951345,
          11.38782308048548,
          26.0079664580059,
          23.618932627118,
          20.876253440053322,
          16.703302396282528,
          9.656673750958834,
          15.382921693431255,
          20.287238526155676,
          21.494000693491035,
          22.24549320878147,
          19.485757272619175,
          17.45551202734403,
          6.902264549100666,
          15.996659873270431,
          18.009280035898353,
          7.742004829334909,
          21.28480710141086,
          16.318685526396443,
          25.933384620943148,
          13.136897252668449,
          22.505607621545412,
          17.385667898656394,
          22.629981102573282,
          21.483371851204016,
          17.346642706692705,
          20.351194338851926,
          23.253310704954355,
          10.938583388849052,
          39.76428638022089,
          17.901231708070675,
          22.61121104673152,
          18.7737816670258,
          16.291977306948763,
          20.617144806192506,
          14.362726355435846,
          20.872613778596993,
          23.093167224946125,
          25.944273805948463,
          30.77400229426273,
          25.49992409189162,
          21.02631804889895,
          26.951494499348485,
          16.824156621157123,
          16.42339887962393,
          21.718746760585663,
          16.578885764908392,
          23.185085987094432,
          29.138563197903455,
          25.289764628409554,
          17.092193826791462,
          40.38491370996406,
          28.84533518216119,
          26.38582481072912,
          30.115767421779903,
          26.83421185134883,
          13.58494540780925,
          32.31328292794981,
          32.03342562466636,
          33.18170700681252,
          38.22824332544345,
          31.961285555447894,
          18.34400264965389,
          23.384730680958015,
          23.238887289477674,
          13.775713801045557,
          16.491368798132804,
          13.277246832771207,
          16.83833505843858,
          26.740638237815638,
          22.840465369585278,
          15.010138582982542,
          19.298496181772688,
          27.704727671928573,
          19.19061372388171,
          27.981700395591204,
          17.873440470604745,
          17.079068221346468,
          17.775153849133805,
          34.02385336332345,
          21.161324704757135,
          35.4699628541554,
          18.079240950819006,
          19.312576255585757,
          30.1034820544909,
          11.238470418449602,
          25.719470884787615,
          19.86738185814091,
          26.37609437060523,
          26.627299402997128,
          33.49972759537508,
          15.010449948507455,
          18.844053432548506,
          18.463867883598684,
          21.09550817020133,
          19.568005274246055,
          22.34661701474206,
          19.306893221190467,
          27.167705849354952,
          29.68610614197859,
          16.390703143632074,
          17.882424735158576,
          24.686023914606174,
          34.63063767912534,
          18.19047802358316,
          20.39131113204729,
          26.284400403544844,
          18.41203303335418,
          26.477109153412677,
          22.488599418287883,
          9.82920741773256,
          19.56823517932291,
          15.530699253867331,
          26.326906575875572,
          23.572151082298728,
          22.427574012318797,
          27.877324051690525,
          20.053704472818097,
          16.69016564164992,
          13.387782599643627,
          21.658649996787844,
          25.57189817513097,
          19.968297558133493,
          24.046389030327724,
          23.485328221465153,
          23.40121503435628,
          41.55766298952605,
          17.780832192648152,
          40.73338178319839,
          18.804014755405888,
          13.825253786550757,
          27.809570813839084,
          22.95508910047031,
          24.992359596658577,
          18.17581445531172,
          17.74799190383492,
          8.633155715505396,
          28.018180653867688,
          42.63132200562167,
          19.070945956387433,
          18.098963601657076,
          21.642958846175492,
          28.277849525705157,
          18.91343500521873,
          31.833789515548702,
          19.878922388475818,
          24.16990442470524,
          21.382177123796836,
          41.08383107643871,
          28.697230319889993,
          20.10595733583772,
          12.596732075457652,
          13.782513983008835,
          17.234011700442384,
          27.61071120964128,
          43.56645793142994,
          17.20125501732495,
          17.370102925040634,
          22.017772516944852,
          16.42893836413572,
          20.619819430419675,
          16.163908529165678,
          18.830593162929695,
          7.865516487332896,
          24.598962336864414,
          9.73759677639449,
          16.386761303944144,
          15.784824575552575,
          18.049854808583973,
          25.84397474262497,
          24.42637460164605,
          29.345097330193635,
          15.872214375288898,
          24.663106582983975,
          12.416199571917238,
          36.728144295793484,
          28.01170361677094,
          21.419389076541233,
          17.51744659358068,
          21.783408662196063,
          12.563823590090895,
          23.31045554436103,
          30.210957857526946,
          28.1599018743564,
          36.023551065671676,
          23.321303350868565,
          24.261669584393893,
          23.128823368707938,
          13.889812313558398,
          36.20957606617512,
          26.055036689467954,
          20.71713212811605,
          30.796797568723903,
          40.21593870544615,
          37.91809366394651,
          21.49045432235464,
          16.510421084479837,
          25.07992873241143,
          36.05903591032334,
          31.759275250616138,
          16.877236677454256,
          7.576336928073513,
          5.783157628432479,
          3.1050420867492527
         ]
        },
        {
         "boxpoints": "all",
         "fillcolor": "#482878",
         "jitter": 0.2,
         "line": {
          "color": "#444",
          "width": 1
         },
         "marker": {
          "color": "#482878",
          "size": 2
         },
         "name": "d1",
         "type": "box",
         "whiskerwidth": 0.5,
         "y": [
          19.94239251550682,
          7.673408898557021,
          12.050588358463934,
          4.836896700301441,
          6.771498639596443,
          24.147492746930787,
          12.52697146704049,
          20.019649114186667,
          15.190962305873503,
          17.043343244692384,
          21.78586951751049,
          22.172457197894413,
          22.71365387235253,
          18.546939917071377,
          26.851693869665247,
          12.785931083725018,
          21.807888207419637,
          17.62514828427008,
          14.506231226350637,
          24.21929672061833,
          24.201260219477316,
          23.91316961236665,
          24.846478824291626,
          23.48629436732261,
          19.388440048295536,
          23.543970795127564,
          23.175102003774683,
          23.46260151396827,
          24.292869520767812,
          22.736257367452616,
          25.368032851042102,
          25.190195937481533,
          22.889807808333828,
          24.46979582985727,
          20.14118456847137,
          23.43454760564489,
          25.244869959062008,
          25.302965518199503,
          23.977492941549205,
          24.831077256409326,
          25.06853398800582,
          1.1346742993700518,
          18.032487942830247,
          26.74112547525751,
          26.75109072280981,
          24.73342581859049,
          26.57096923811385,
          25.466263710938037,
          23.04042660139413,
          24.2284729755616,
          25.838862274647482,
          24.48059741245598,
          15.531039541259132,
          25.61940649372326,
          25.073276350408893,
          25.000735962391325,
          25.867678626173625,
          24.23484056989356,
          23.769800501135535,
          17.683042598567653,
          23.672320944787053,
          21.69496929787073,
          25.348003500116555,
          24.19252545302378,
          24.477089931110783,
          25.467222899182296,
          21.454753939167396,
          20.873752504649534,
          12.178365541587873,
          22.747664726299842,
          25.1077144339997,
          24.404548986536025,
          24.283676750668665,
          21.933281750880276,
          24.600821910673144,
          5.240593149943054,
          14.524676656638594,
          13.734924268524102,
          18.823185859100377,
          16.75173176480926,
          22.69909108784183,
          21.233789506123095,
          24.891354137661573,
          28.078270878376568,
          31.028996439750074,
          16.371576900341683,
          18.603025339902448,
          25.27547274706176,
          23.809694358022515,
          31.003074920352077,
          18.66272464368664,
          28.071435002197703,
          16.159135894113323,
          30.033975684990175,
          25.561722953538887,
          19.288179304556802,
          23.09852115209106,
          24.443222389129538,
          20.944578993212748,
          21.22581747195627,
          18.677195102660715,
          22.541615094517642,
          17.490506763059923,
          16.268809486960535,
          24.61069543016283,
          18.332739089150284,
          23.501330670308754,
          21.971716694892883,
          23.14532082540896,
          16.998719579140683,
          23.148851952675273,
          12.36345183806576,
          15.151337055421408,
          27.076511659974773,
          20.50971442688922,
          28.30724852228039,
          27.096629681700914,
          21.55026264056283,
          19.897066413567227,
          21.203292149531553,
          6.766583180038363,
          26.36625495645535,
          8.998402204900694,
          20.720949873146086,
          21.622958077693237,
          14.65510078157727,
          20.097407527590832,
          19.938842295188117,
          19.284816727381617,
          21.302527527475775,
          23.686711863897315,
          12.332777151076987,
          26.239645783410058,
          24.02150153587914,
          16.71197730931008,
          19.976178682802914,
          26.142210867845822,
          19.086835754484706,
          10.554529188205155,
          16.820312258880918,
          23.619880726727967,
          17.428163689515863,
          18.700771511915327,
          20.042088432927486,
          22.859860773580692,
          19.107424075439567,
          18.46155241284826,
          23.371869642786894,
          23.843276822680217,
          14.570126408970012,
          23.999674991758805,
          12.040160259755812,
          25.826174780759402,
          14.723472855686401,
          26.064506110136602,
          11.937290940268895,
          14.87476704378732,
          19.339282378820613,
          12.243045556153238,
          13.615345462262896,
          13.887384909206961,
          20.136262236389133,
          18.850499758760932,
          19.20806366116914,
          20.669714639063816,
          16.83243492736819
         ]
        },
        {
         "boxpoints": "all",
         "fillcolor": "#31688e",
         "jitter": 0.2,
         "line": {
          "color": "#444",
          "width": 1
         },
         "marker": {
          "color": "#31688e",
          "size": 2
         },
         "name": "d1.5",
         "type": "box",
         "whiskerwidth": 0.5,
         "y": [
          -1.0426736865498945,
          3.5593166192678325,
          8.217870366447219,
          11.169735921557958,
          -20.67788954127435,
          17.374404747872944,
          12.825306168723747,
          16.135851383198034,
          3.5576886352213974,
          -0.5711576621569134,
          13.004575377781013,
          16.94089064688613,
          10.82617127209257,
          12.234011730120704,
          16.12210541821619,
          18.814561311579297,
          10.812581400389806,
          16.089680937048264,
          19.916349935076084,
          23.084540299638203,
          16.841982177268882,
          15.30825104201975,
          10.742160079127455,
          21.727102600880116,
          17.658770274522723,
          13.957885921215109,
          21.968118002570225,
          7.606076902300571,
          13.08014582714727,
          23.776995838069833,
          12.326516734921956,
          17.850713631285906,
          21.472948305165872,
          8.03925222617586,
          9.000088457706203,
          21.45726358062041,
          18.973237853527525,
          10.827578301206962,
          15.48885675237622,
          14.42724282358096,
          18.11442064568338,
          16.925883371067005,
          9.072380994639667,
          18.71340534831876,
          20.58215797927233,
          8.271882437884534,
          12.31255299635562,
          17.97131126966115,
          23.27709379375686,
          12.330660324762457,
          17.364341647247873,
          19.709619045074444,
          12.801601007251996,
          15.847067177891113,
          9.175664115126242,
          16.276009226024104,
          10.991671005748023,
          14.778733159636742,
          17.458421337521816,
          14.758754281587862,
          22.61326635902418,
          22.10960792703012,
          22.7056380623794,
          22.567242961134657,
          19.580266185793143,
          9.609603370332609,
          14.741697084170076,
          16.333417711060434,
          25.494846274142542,
          0.2833568017987034,
          18.996762898961784,
          13.051411510558674,
          17.822865558086587,
          19.726324592070362,
          16.06174680626541,
          17.933671421818897,
          14.333026478158954,
          17.480961489786534,
          6.838436758975963,
          14.738769550647724,
          4.091245746864221,
          20.818148165084956,
          20.371218245395752,
          19.57019068352775,
          10.368407485346172,
          9.047161993415084,
          20.017061928209078,
          6.829949933541762,
          20.227927212889487,
          15.435593964807143,
          1.8842972895181584,
          12.33941341646442,
          3.865371487671072
         ]
        },
        {
         "boxpoints": "all",
         "fillcolor": "#1f9e89",
         "jitter": 0.2,
         "line": {
          "color": "#444",
          "width": 1
         },
         "marker": {
          "color": "#1f9e89",
          "size": 2
         },
         "name": "d2",
         "type": "box",
         "whiskerwidth": 0.5,
         "y": [
          -14.291277047626444,
          12.76322175743987,
          -5.620631194183694,
          14.296097153911576,
          8.581459896533993,
          14.242201706779996,
          11.259906256181207,
          25.824192233724144,
          36.118335358531226,
          20.802290907290512,
          25.250661095193443,
          29.30492302332712,
          32.55653799963706,
          18.509334884036218,
          23.71689780895607,
          21.08865613139641,
          19.144317561964986,
          28.545544786840022,
          27.107466109226582,
          27.850124996568162,
          28.752151751535514,
          16.72990540494364,
          32.410413917989494,
          27.699500982511953,
          37.224253954100924,
          29.172078130229867,
          20.945980444138094,
          28.799014175962498,
          25.111908362632445,
          23.27532396958689,
          23.340834371325126,
          18.886307239522004,
          29.55328301534299,
          37.913336890221125,
          39.06071136853198,
          30.581131399638704,
          29.54911963686242,
          14.773476094993708,
          18.40376779395504,
          11.558770781297042,
          23.21975580059537,
          20.864863908133554,
          14.660331304550924,
          17.758625695882646,
          37.613125880758716,
          27.062102062846627,
          28.592281180353563,
          17.11818600359159,
          27.935888285397354,
          28.808026824326184,
          34.056712984065314,
          28.039240585612337,
          29.941814122949307,
          24.67357782505622,
          20.468222552424827,
          38.55959678964221,
          25.728499337255464,
          31.200341036812286,
          20.90797596416337,
          24.129640938802524,
          23.319396426932272,
          27.508887267795707,
          31.634472063028074,
          21.955172164276874,
          23.92680546141184,
          29.163797973594928,
          20.04848016489397,
          25.329138671700672,
          20.354247038063683,
          25.597018036660845,
          16.543388147303336,
          18.720094186237457,
          18.114916563300884,
          21.393432911273226,
          23.214213033028752,
          23.66552658555267,
          22.891460464413274,
          25.130872110634986,
          27.161801306053686,
          18.401189940589568,
          34.43423883655686,
          28.147315716963714,
          15.945591676557228,
          25.00772564246569,
          16.469777800909345,
          17.242350079872285,
          30.406341501116636,
          17.53011633530818,
          39.293288200205666,
          21.47511829613919,
          18.76511646796245,
          33.0649024534731,
          19.770158200732546,
          30.006841659452576,
          29.66037097558067,
          22.98754330683373,
          30.288054920034863,
          23.91170261729405,
          28.364103760826378,
          29.31304875138916,
          32.76511697274541,
          18.74004742893748,
          16.80550280837699,
          18.59137697500252,
          29.855986650992033,
          24.180702869026522,
          19.881743287585568,
          29.231551953922605,
          29.49444319179587,
          29.866121549512492,
          21.478595127020785,
          29.855822862341615,
          24.277692530297404,
          30.01889639917235,
          22.144639947674435,
          33.94135849727236,
          36.517250483984306,
          27.322516448872975,
          20.081377324918858,
          31.24505961764605,
          18.623689309841712,
          16.800531845370482,
          19.828528231410676,
          22.804036118274794,
          24.07046467435102,
          20.2225014375764,
          37.30350010388572,
          15.906342596960076,
          19.048117037373455,
          22.599344433727737,
          26.708009457525677,
          40.430416264628164,
          22.999689068678524,
          36.568506844548374,
          33.50298136275604,
          35.0166590128062,
          17.9413886060183,
          25.785206144553573,
          27.04815175320426,
          28.082037461391458,
          23.82751633698819,
          38.617361828740606,
          22.136377083810764,
          22.556188116792196,
          25.74113336770534,
          21.967164545408266,
          30.133405966353806,
          13.22876522112417,
          23.72090756405389,
          32.530451071587834,
          28.19075800097955,
          25.67877280107102,
          24.849013893888227,
          17.234079039485998,
          18.400912599088986,
          31.707042213990032,
          20.67297717080313,
          27.265943703823275,
          26.786809854511034,
          20.275633058064383,
          22.92054356559534,
          21.747913722084938,
          25.45021137316712,
          23.985245055152372,
          26.464858978332256,
          23.83872054503732,
          17.986208393470303,
          25.065092853922557,
          13.199734676720533,
          19.400285459822324,
          18.418962962200094,
          26.46917792563114,
          22.59405345057518,
          24.484823234092833,
          23.468592725167003,
          26.82686948184555,
          6.39932417248381,
          19.483577063788722,
          20.775547655808055,
          21.63579377293742,
          12.905001104910944,
          8.293922576186192,
          1.7256775434374478,
          14.15063212796468,
          11.385117348543528,
          12.701144611121043,
          1.4810991358215055,
          13.694551020551677,
          7.568578003662254,
          16.87912374536748,
          7.669183795202888,
          21.221070142313312,
          12.126870029888074,
          1.597854269325596,
          11.665679946816326,
          8.56772637779012,
          12.782694990940334,
          4.5436974909086825,
          13.954624488446889,
          9.39282395259321,
          10.009519948343073,
          10.589684176171817,
          12.6356430400546,
          14.543860635100794,
          11.168542043229523,
          14.411565595758002,
          11.58156456369862,
          22.691587746147132,
          8.071665105526574,
          5.488511353482612,
          0.6077637825739257
         ]
        },
        {
         "boxpoints": "all",
         "fillcolor": "#6ece58",
         "jitter": 0.2,
         "line": {
          "color": "#444",
          "width": 1
         },
         "marker": {
          "color": "#6ece58",
          "size": 2
         },
         "name": "d2.5",
         "type": "box",
         "whiskerwidth": 0.5,
         "y": [
          1.6369543407512648,
          -9.126828865478391,
          3.717309621498025,
          1.4378116034948438,
          -10.183514334290017,
          -14.792962762387722,
          0.11656801495898073,
          2.3920843057465087,
          22.79657816648929,
          10.667172431913336,
          22.469330169700253,
          16.042798929896943,
          8.683519161488473,
          21.235870661249812,
          17.1200513724142,
          7.23179065503783,
          16.42959781995726,
          8.439458991024035,
          18.99284546151733,
          16.75823961373256,
          -1.9658571383194658,
          21.82026526203817,
          20.22793601680252,
          14.072867923889714,
          0.06325813529733426,
          11.981394594266975,
          34.33284704973577,
          9.931408215251645,
          13.500610244969529,
          13.909758761310679,
          15.325767132526982,
          25.880448854726858,
          16.049205497743692,
          21.07197033373673,
          20.27911360757202,
          18.902267983163036,
          18.72108399773662,
          24.935973354155642,
          16.51412979748708,
          25.474362501921174,
          16.333238730516115,
          18.29317962949985,
          23.876344191959873,
          22.757326925714455,
          27.785237281475666,
          22.387946054769813,
          21.4412611020537,
          18.600080638945638,
          21.53585327482656,
          21.699871090912207,
          21.77256829427086,
          20.57236527274121,
          18.108089529606005,
          18.61630708782958,
          14.772450915715634,
          1.4681564229147246,
          22.18247636512766,
          6.940802385037424,
          24.65098514948039,
          15.802869589045045,
          19.99879256672963,
          18.72325309692379,
          22.1294794794714,
          21.34504494018171,
          23.360828371966473,
          18.786345694069254,
          23.3938265198895,
          24.464892976470196,
          13.953603715597072,
          22.147774678409775,
          29.842551722957776,
          20.231752305158523,
          22.821414394155397,
          26.85823571367356,
          25.14142769463749,
          17.658135351085914,
          15.05389249610336,
          19.28683847193474,
          18.963589707211565,
          17.41799841785142,
          21.762831893777317,
          26.682552498256335,
          22.07784431496618,
          16.246106750714635,
          23.027350034933445,
          18.374302309534816,
          15.761079115902826,
          -0.4756530125543492,
          20.707292110920136,
          18.35746062374112,
          10.596874882211978,
          18.369384730555456,
          8.552030130963736,
          16.781824541668186,
          17.992590121397402,
          12.465780036310935,
          8.495664995125644,
          6.045094946240112,
          25.308367333500662,
          8.721043491974193,
          18.022474015657764,
          27.009630531193555,
          -0.7396684332754568,
          7.165783553431492,
          11.794900634495345,
          13.673368047924734,
          10.915079478424808,
          9.123468178359943,
          10.485157704240873,
          15.958186202670095,
          9.655325690934605,
          12.044059969633839,
          8.343726447642785,
          12.793047957388787,
          9.634438336135334,
          -0.08182061737702084,
          -6.928910649656068,
          6.561844455510371,
          4.719535087273492,
          -7.197671486382953,
          10.21636616865574,
          3.105122659523703
         ]
        },
        {
         "boxpoints": "all",
         "fillcolor": "#fde725",
         "jitter": 0.2,
         "line": {
          "color": "#444",
          "width": 1
         },
         "marker": {
          "color": "#fde725",
          "size": 2
         },
         "name": "d3",
         "type": "box",
         "whiskerwidth": 0.5,
         "y": [
          -10.176479819454915,
          21.619115829695485,
          22.79515666668306,
          21.605725830072195,
          -13.142136332419506,
          10.257794779290354,
          24.329296748845046,
          -6.704425062195892,
          20.827628384519617,
          24.085704185892556,
          23.19408861396181,
          22.4664752201666,
          24.05218406705687,
          24.561450990496347,
          19.304157146459904,
          25.776594978384132,
          24.468046420586894,
          29.37174720687019,
          24.794277546931532,
          23.25549715405627,
          25.634914319069342,
          27.466501225968134,
          25.639775643145256,
          36.457975173368986,
          35.0988973323304,
          27.803426079474825,
          29.598368118997648,
          33.77258375607007,
          24.244812087291596,
          37.331800299792775,
          31.908534275375068,
          40.242253868849374,
          -21.107053193388914,
          36.37189730402386,
          0.7550868939862498,
          31.21102478623026,
          38.12442895317019,
          38.67930435388476,
          26.592314516215094,
          35.90372974672535,
          31.45851167997151,
          35.2914831980218,
          36.664078866509456,
          27.937372033018182,
          32.81783851958286,
          18.695866210252,
          40.350411647400485,
          27.340888514509835,
          31.25628519271005,
          38.206017489838885,
          30.439121414671494,
          34.00176920491783,
          26.601824113250593,
          38.2506172346835,
          2.7539759982235292,
          30.012385301703993,
          31.53250149925307,
          25.789517514310955,
          33.399832114342594,
          30.519519761637465,
          39.22490330621949,
          41.54651807777675,
          39.961766651463215,
          38.87258478446354,
          38.93203274696711,
          33.82708640311571,
          37.03579376073897,
          31.247228441532968,
          8.896504812254413,
          36.94588961312914,
          18.301758042673235,
          35.858554477303635,
          30.282624343066523,
          40.456544178368844,
          2.665503678198761,
          38.05534246561588,
          41.48665369399194,
          34.34679713186289,
          18.936216740949178,
          32.71482689145286,
          39.161735331790034,
          29.281200817579858,
          33.89998437093138,
          -6.264081849448596,
          40.26903459032807,
          18.898299573860623,
          35.22667143531982,
          30.946419259809673,
          39.75319718593569,
          31.851242983238485,
          38.51046429975441,
          33.31760348294935,
          28.824357937908566,
          31.036049284871464,
          31.5934742206939,
          35.39749507557509,
          35.58346545250131,
          40.00534096163691,
          26.666093826860198,
          39.81611824803437,
          38.513825774431105,
          30.15102872499204,
          39.068610320633276,
          23.86657482566325,
          39.36388474808488,
          26.14902213763052,
          40.47554408049386,
          29.55105227880798,
          32.45459063650825,
          30.9173453376503,
          26.14797584341085,
          35.98422650681693,
          23.526844906367767,
          40.73026952699895,
          33.01481012496688,
          39.89511404117861,
          30.680650647776485,
          37.91142487799631,
          35.090149411955515,
          32.31986445715231,
          31.891520503225777,
          35.835857348203895,
          32.33516328423956,
          22.013007063921993,
          38.861915235127356,
          24.532443908284332,
          -22.949596026660327,
          28.434293845815063,
          28.621359771018597,
          29.290865681231953,
          28.28319976349195,
          22.889118025299133,
          29.521505300192587,
          20.292211562419652,
          42.06465022278484,
          22.173165034572424,
          20.924765680340386,
          16.031005162589157,
          23.726963773000804,
          29.475378671703766,
          20.18707146763695,
          3.8702025094227723,
          25.70423694153474,
          14.349177339747051,
          23.37612399774529,
          25.187814315778315,
          29.017254433671127,
          26.097806380982476,
          12.77549639656241,
          29.33531020045486,
          19.566681581489284,
          37.60408406102077,
          15.082985603561395,
          27.064217030490138,
          28.259139866366628,
          17.971030624556825,
          25.86118370556173,
          28.03379208450397,
          34.000835584076974,
          37.09746775589309,
          32.09998689875548,
          26.420104563223585,
          27.31389817133467,
          29.230146640036153,
          14.989347680495822,
          17.492888596013508,
          24.60016729823154,
          23.68281251860614,
          25.191364064862444,
          20.30225444352525,
          33.76689239372145,
          25.635169802152433,
          30.42099072906441,
          22.22512045700355,
          21.95706542412628,
          27.639436688305956,
          31.544677612013945,
          25.685963919854295,
          28.812783479874778,
          24.200514650683807,
          18.19327262006988,
          31.83503986177037,
          28.024050851849072,
          25.585589104934755,
          26.552466658047198,
          24.26684822215509,
          35.42671555433828,
          30.419346492121182,
          32.99447162603368,
          24.38456984753651,
          27.784251633642207,
          34.07147463540627,
          27.51505061950112,
          20.351090489935217,
          37.592595683026644,
          29.932900128987537,
          26.093595278231533,
          24.645673051031025,
          20.48292554703221,
          34.83058198366933,
          33.07616438629972,
          6.348075868098891,
          32.212251250402645,
          28.025210055848348,
          28.680870795707143,
          24.44545993309006,
          34.466869510631334,
          24.45660702697259,
          32.22700697348877,
          26.033333028738014,
          23.983964669582427,
          24.007361039947,
          9.76389811694003,
          25.313374035459027,
          32.210023317937,
          24.118566624469974,
          27.905508744347234,
          30.56508727884668,
          37.917340435951154,
          33.415550395865196,
          28.676378884022817,
          29.606115623611416,
          14.666685264878861,
          26.4606549086494,
          39.89652519688293,
          28.916573980902346,
          36.474211599478465,
          27.87097441777237,
          22.096878620709873,
          30.7678978053234,
          34.01953431188116,
          30.26868097154826,
          24.869898680658423,
          26.073548636819847,
          32.06615441952692,
          26.516893120340484,
          20.750514051956227,
          19.950390254692348,
          27.89927461219119,
          18.46543674126799,
          4.308125500486603,
          28.67464460664306,
          33.95025232547212,
          29.85871187295464,
          38.64597789889424,
          28.43326555698905,
          33.031280346747366,
          26.505138560155615,
          34.79683486807419,
          27.450254114150844,
          27.217229256908603,
          35.0845257844438,
          35.657382344132905,
          32.477643628077494,
          27.489458717559838,
          21.17457472413007,
          39.28737517894136,
          24.23383572965608
         ]
        }
       ],
       "layout": {
        "font": {
         "color": "black",
         "family": "Arial",
         "size": 20
        },
        "height": 500,
        "margin": {
         "b": 80,
         "l": 40,
         "r": 30,
         "t": 50
        },
        "paper_bgcolor": "rgb(255, 255, 255)",
        "plot_bgcolor": "rgb(255, 255, 255)",
        "showlegend": false,
        "template": {
         "data": {
          "bar": [
           {
            "error_x": {
             "color": "#2a3f5f"
            },
            "error_y": {
             "color": "#2a3f5f"
            },
            "marker": {
             "line": {
              "color": "#E5ECF6",
              "width": 0.5
             },
             "pattern": {
              "fillmode": "overlay",
              "size": 10,
              "solidity": 0.2
             }
            },
            "type": "bar"
           }
          ],
          "barpolar": [
           {
            "marker": {
             "line": {
              "color": "#E5ECF6",
              "width": 0.5
             },
             "pattern": {
              "fillmode": "overlay",
              "size": 10,
              "solidity": 0.2
             }
            },
            "type": "barpolar"
           }
          ],
          "carpet": [
           {
            "aaxis": {
             "endlinecolor": "#2a3f5f",
             "gridcolor": "white",
             "linecolor": "white",
             "minorgridcolor": "white",
             "startlinecolor": "#2a3f5f"
            },
            "baxis": {
             "endlinecolor": "#2a3f5f",
             "gridcolor": "white",
             "linecolor": "white",
             "minorgridcolor": "white",
             "startlinecolor": "#2a3f5f"
            },
            "type": "carpet"
           }
          ],
          "choropleth": [
           {
            "colorbar": {
             "outlinewidth": 0,
             "ticks": ""
            },
            "type": "choropleth"
           }
          ],
          "contour": [
           {
            "colorbar": {
             "outlinewidth": 0,
             "ticks": ""
            },
            "colorscale": [
             [
              0,
              "#0d0887"
             ],
             [
              0.1111111111111111,
              "#46039f"
             ],
             [
              0.2222222222222222,
              "#7201a8"
             ],
             [
              0.3333333333333333,
              "#9c179e"
             ],
             [
              0.4444444444444444,
              "#bd3786"
             ],
             [
              0.5555555555555556,
              "#d8576b"
             ],
             [
              0.6666666666666666,
              "#ed7953"
             ],
             [
              0.7777777777777778,
              "#fb9f3a"
             ],
             [
              0.8888888888888888,
              "#fdca26"
             ],
             [
              1,
              "#f0f921"
             ]
            ],
            "type": "contour"
           }
          ],
          "contourcarpet": [
           {
            "colorbar": {
             "outlinewidth": 0,
             "ticks": ""
            },
            "type": "contourcarpet"
           }
          ],
          "heatmap": [
           {
            "colorbar": {
             "outlinewidth": 0,
             "ticks": ""
            },
            "colorscale": [
             [
              0,
              "#0d0887"
             ],
             [
              0.1111111111111111,
              "#46039f"
             ],
             [
              0.2222222222222222,
              "#7201a8"
             ],
             [
              0.3333333333333333,
              "#9c179e"
             ],
             [
              0.4444444444444444,
              "#bd3786"
             ],
             [
              0.5555555555555556,
              "#d8576b"
             ],
             [
              0.6666666666666666,
              "#ed7953"
             ],
             [
              0.7777777777777778,
              "#fb9f3a"
             ],
             [
              0.8888888888888888,
              "#fdca26"
             ],
             [
              1,
              "#f0f921"
             ]
            ],
            "type": "heatmap"
           }
          ],
          "heatmapgl": [
           {
            "colorbar": {
             "outlinewidth": 0,
             "ticks": ""
            },
            "colorscale": [
             [
              0,
              "#0d0887"
             ],
             [
              0.1111111111111111,
              "#46039f"
             ],
             [
              0.2222222222222222,
              "#7201a8"
             ],
             [
              0.3333333333333333,
              "#9c179e"
             ],
             [
              0.4444444444444444,
              "#bd3786"
             ],
             [
              0.5555555555555556,
              "#d8576b"
             ],
             [
              0.6666666666666666,
              "#ed7953"
             ],
             [
              0.7777777777777778,
              "#fb9f3a"
             ],
             [
              0.8888888888888888,
              "#fdca26"
             ],
             [
              1,
              "#f0f921"
             ]
            ],
            "type": "heatmapgl"
           }
          ],
          "histogram": [
           {
            "marker": {
             "pattern": {
              "fillmode": "overlay",
              "size": 10,
              "solidity": 0.2
             }
            },
            "type": "histogram"
           }
          ],
          "histogram2d": [
           {
            "colorbar": {
             "outlinewidth": 0,
             "ticks": ""
            },
            "colorscale": [
             [
              0,
              "#0d0887"
             ],
             [
              0.1111111111111111,
              "#46039f"
             ],
             [
              0.2222222222222222,
              "#7201a8"
             ],
             [
              0.3333333333333333,
              "#9c179e"
             ],
             [
              0.4444444444444444,
              "#bd3786"
             ],
             [
              0.5555555555555556,
              "#d8576b"
             ],
             [
              0.6666666666666666,
              "#ed7953"
             ],
             [
              0.7777777777777778,
              "#fb9f3a"
             ],
             [
              0.8888888888888888,
              "#fdca26"
             ],
             [
              1,
              "#f0f921"
             ]
            ],
            "type": "histogram2d"
           }
          ],
          "histogram2dcontour": [
           {
            "colorbar": {
             "outlinewidth": 0,
             "ticks": ""
            },
            "colorscale": [
             [
              0,
              "#0d0887"
             ],
             [
              0.1111111111111111,
              "#46039f"
             ],
             [
              0.2222222222222222,
              "#7201a8"
             ],
             [
              0.3333333333333333,
              "#9c179e"
             ],
             [
              0.4444444444444444,
              "#bd3786"
             ],
             [
              0.5555555555555556,
              "#d8576b"
             ],
             [
              0.6666666666666666,
              "#ed7953"
             ],
             [
              0.7777777777777778,
              "#fb9f3a"
             ],
             [
              0.8888888888888888,
              "#fdca26"
             ],
             [
              1,
              "#f0f921"
             ]
            ],
            "type": "histogram2dcontour"
           }
          ],
          "mesh3d": [
           {
            "colorbar": {
             "outlinewidth": 0,
             "ticks": ""
            },
            "type": "mesh3d"
           }
          ],
          "parcoords": [
           {
            "line": {
             "colorbar": {
              "outlinewidth": 0,
              "ticks": ""
             }
            },
            "type": "parcoords"
           }
          ],
          "pie": [
           {
            "automargin": true,
            "type": "pie"
           }
          ],
          "scatter": [
           {
            "fillpattern": {
             "fillmode": "overlay",
             "size": 10,
             "solidity": 0.2
            },
            "type": "scatter"
           }
          ],
          "scatter3d": [
           {
            "line": {
             "colorbar": {
              "outlinewidth": 0,
              "ticks": ""
             }
            },
            "marker": {
             "colorbar": {
              "outlinewidth": 0,
              "ticks": ""
             }
            },
            "type": "scatter3d"
           }
          ],
          "scattercarpet": [
           {
            "marker": {
             "colorbar": {
              "outlinewidth": 0,
              "ticks": ""
             }
            },
            "type": "scattercarpet"
           }
          ],
          "scattergeo": [
           {
            "marker": {
             "colorbar": {
              "outlinewidth": 0,
              "ticks": ""
             }
            },
            "type": "scattergeo"
           }
          ],
          "scattergl": [
           {
            "marker": {
             "colorbar": {
              "outlinewidth": 0,
              "ticks": ""
             }
            },
            "type": "scattergl"
           }
          ],
          "scattermapbox": [
           {
            "marker": {
             "colorbar": {
              "outlinewidth": 0,
              "ticks": ""
             }
            },
            "type": "scattermapbox"
           }
          ],
          "scatterpolar": [
           {
            "marker": {
             "colorbar": {
              "outlinewidth": 0,
              "ticks": ""
             }
            },
            "type": "scatterpolar"
           }
          ],
          "scatterpolargl": [
           {
            "marker": {
             "colorbar": {
              "outlinewidth": 0,
              "ticks": ""
             }
            },
            "type": "scatterpolargl"
           }
          ],
          "scatterternary": [
           {
            "marker": {
             "colorbar": {
              "outlinewidth": 0,
              "ticks": ""
             }
            },
            "type": "scatterternary"
           }
          ],
          "surface": [
           {
            "colorbar": {
             "outlinewidth": 0,
             "ticks": ""
            },
            "colorscale": [
             [
              0,
              "#0d0887"
             ],
             [
              0.1111111111111111,
              "#46039f"
             ],
             [
              0.2222222222222222,
              "#7201a8"
             ],
             [
              0.3333333333333333,
              "#9c179e"
             ],
             [
              0.4444444444444444,
              "#bd3786"
             ],
             [
              0.5555555555555556,
              "#d8576b"
             ],
             [
              0.6666666666666666,
              "#ed7953"
             ],
             [
              0.7777777777777778,
              "#fb9f3a"
             ],
             [
              0.8888888888888888,
              "#fdca26"
             ],
             [
              1,
              "#f0f921"
             ]
            ],
            "type": "surface"
           }
          ],
          "table": [
           {
            "cells": {
             "fill": {
              "color": "#EBF0F8"
             },
             "line": {
              "color": "white"
             }
            },
            "header": {
             "fill": {
              "color": "#C8D4E3"
             },
             "line": {
              "color": "white"
             }
            },
            "type": "table"
           }
          ]
         },
         "layout": {
          "annotationdefaults": {
           "arrowcolor": "#2a3f5f",
           "arrowhead": 0,
           "arrowwidth": 1
          },
          "autotypenumbers": "strict",
          "coloraxis": {
           "colorbar": {
            "outlinewidth": 0,
            "ticks": ""
           }
          },
          "colorscale": {
           "diverging": [
            [
             0,
             "#8e0152"
            ],
            [
             0.1,
             "#c51b7d"
            ],
            [
             0.2,
             "#de77ae"
            ],
            [
             0.3,
             "#f1b6da"
            ],
            [
             0.4,
             "#fde0ef"
            ],
            [
             0.5,
             "#f7f7f7"
            ],
            [
             0.6,
             "#e6f5d0"
            ],
            [
             0.7,
             "#b8e186"
            ],
            [
             0.8,
             "#7fbc41"
            ],
            [
             0.9,
             "#4d9221"
            ],
            [
             1,
             "#276419"
            ]
           ],
           "sequential": [
            [
             0,
             "#0d0887"
            ],
            [
             0.1111111111111111,
             "#46039f"
            ],
            [
             0.2222222222222222,
             "#7201a8"
            ],
            [
             0.3333333333333333,
             "#9c179e"
            ],
            [
             0.4444444444444444,
             "#bd3786"
            ],
            [
             0.5555555555555556,
             "#d8576b"
            ],
            [
             0.6666666666666666,
             "#ed7953"
            ],
            [
             0.7777777777777778,
             "#fb9f3a"
            ],
            [
             0.8888888888888888,
             "#fdca26"
            ],
            [
             1,
             "#f0f921"
            ]
           ],
           "sequentialminus": [
            [
             0,
             "#0d0887"
            ],
            [
             0.1111111111111111,
             "#46039f"
            ],
            [
             0.2222222222222222,
             "#7201a8"
            ],
            [
             0.3333333333333333,
             "#9c179e"
            ],
            [
             0.4444444444444444,
             "#bd3786"
            ],
            [
             0.5555555555555556,
             "#d8576b"
            ],
            [
             0.6666666666666666,
             "#ed7953"
            ],
            [
             0.7777777777777778,
             "#fb9f3a"
            ],
            [
             0.8888888888888888,
             "#fdca26"
            ],
            [
             1,
             "#f0f921"
            ]
           ]
          },
          "colorway": [
           "#636efa",
           "#EF553B",
           "#00cc96",
           "#ab63fa",
           "#FFA15A",
           "#19d3f3",
           "#FF6692",
           "#B6E880",
           "#FF97FF",
           "#FECB52"
          ],
          "font": {
           "color": "#2a3f5f"
          },
          "geo": {
           "bgcolor": "white",
           "lakecolor": "white",
           "landcolor": "#E5ECF6",
           "showlakes": true,
           "showland": true,
           "subunitcolor": "white"
          },
          "hoverlabel": {
           "align": "left"
          },
          "hovermode": "closest",
          "mapbox": {
           "style": "light"
          },
          "paper_bgcolor": "white",
          "plot_bgcolor": "#E5ECF6",
          "polar": {
           "angularaxis": {
            "gridcolor": "white",
            "linecolor": "white",
            "ticks": ""
           },
           "bgcolor": "#E5ECF6",
           "radialaxis": {
            "gridcolor": "white",
            "linecolor": "white",
            "ticks": ""
           }
          },
          "scene": {
           "xaxis": {
            "backgroundcolor": "#E5ECF6",
            "gridcolor": "white",
            "gridwidth": 2,
            "linecolor": "white",
            "showbackground": true,
            "ticks": "",
            "zerolinecolor": "white"
           },
           "yaxis": {
            "backgroundcolor": "#E5ECF6",
            "gridcolor": "white",
            "gridwidth": 2,
            "linecolor": "white",
            "showbackground": true,
            "ticks": "",
            "zerolinecolor": "white"
           },
           "zaxis": {
            "backgroundcolor": "#E5ECF6",
            "gridcolor": "white",
            "gridwidth": 2,
            "linecolor": "white",
            "showbackground": true,
            "ticks": "",
            "zerolinecolor": "white"
           }
          },
          "shapedefaults": {
           "line": {
            "color": "#2a3f5f"
           }
          },
          "ternary": {
           "aaxis": {
            "gridcolor": "white",
            "linecolor": "white",
            "ticks": ""
           },
           "baxis": {
            "gridcolor": "white",
            "linecolor": "white",
            "ticks": ""
           },
           "bgcolor": "#E5ECF6",
           "caxis": {
            "gridcolor": "white",
            "linecolor": "white",
            "ticks": ""
           }
          },
          "title": {
           "x": 0.05
          },
          "xaxis": {
           "automargin": true,
           "gridcolor": "white",
           "linecolor": "white",
           "ticks": "",
           "title": {
            "standoff": 15
           },
           "zerolinecolor": "white",
           "zerolinewidth": 2
          },
          "yaxis": {
           "automargin": true,
           "gridcolor": "white",
           "linecolor": "white",
           "ticks": "",
           "title": {
            "standoff": 15
           },
           "zerolinecolor": "white",
           "zerolinewidth": 2
          }
         }
        },
        "title": {
         "text": "curvature"
        },
        "width": 600,
        "yaxis": {
         "autorange": true,
         "dtick": 10,
         "gridcolor": "rgb(240, 240, 240)",
         "gridwidth": 1,
         "showgrid": true,
         "zeroline": true,
         "zerolinecolor": "rgb(240, 240, 240)",
         "zerolinewidth": 1.2
        }
       }
      },
      "text/html": [
       "<div>                            <div id=\"a079500d-701c-45b4-8650-762c493ad417\" class=\"plotly-graph-div\" style=\"height:500px; width:600px;\"></div>            <script type=\"text/javascript\">                require([\"plotly\"], function(Plotly) {                    window.PLOTLYENV=window.PLOTLYENV || {};                                    if (document.getElementById(\"a079500d-701c-45b4-8650-762c493ad417\")) {                    Plotly.newPlot(                        \"a079500d-701c-45b4-8650-762c493ad417\",                        [{\"boxpoints\":\"all\",\"fillcolor\":\"#440154\",\"jitter\":0.2,\"line\":{\"color\":\"#444\",\"width\":1},\"marker\":{\"color\":\"#440154\",\"size\":2},\"name\":\"d0\",\"whiskerwidth\":0.5,\"y\":[36.44801658311406,39.06345057943438,20.151781351233176,26.82204322119698,19.941431055129982,31.285372567253905,24.663667398437823,8.214545855708046,11.889628203375256,13.691755797259598,24.812708348634743,11.09111324432655,13.972306087400304,28.298708914469632,13.728537094821567,23.289127785430217,29.5645130595108,7.292652185413164,17.014836200130418,14.164307874828712,14.857226238713132,15.933884793601191,15.165594090976814,25.288786510984675,18.145745900688475,18.852579770592726,11.855623195867203,20.144389113951345,11.38782308048548,26.0079664580059,23.618932627118,20.876253440053322,16.703302396282528,9.656673750958834,15.382921693431255,20.287238526155676,21.494000693491035,22.24549320878147,19.485757272619175,17.45551202734403,6.902264549100666,15.996659873270431,18.009280035898353,7.742004829334909,21.28480710141086,16.318685526396443,25.933384620943148,13.136897252668449,22.505607621545412,17.385667898656394,22.629981102573282,21.483371851204016,17.346642706692705,20.351194338851926,23.253310704954355,10.938583388849052,39.76428638022089,17.901231708070675,22.61121104673152,18.7737816670258,16.291977306948763,20.617144806192506,14.362726355435846,20.872613778596993,23.093167224946125,25.944273805948463,30.77400229426273,25.49992409189162,21.02631804889895,26.951494499348485,16.824156621157123,16.42339887962393,21.718746760585663,16.578885764908392,23.185085987094432,29.138563197903455,25.289764628409554,17.092193826791462,40.38491370996406,28.84533518216119,26.38582481072912,30.115767421779903,26.83421185134883,13.58494540780925,32.31328292794981,32.03342562466636,33.18170700681252,38.22824332544345,31.961285555447894,18.34400264965389,23.384730680958015,23.238887289477674,13.775713801045557,16.491368798132804,13.277246832771207,16.83833505843858,26.740638237815638,22.840465369585278,15.010138582982542,19.298496181772688,27.704727671928573,19.19061372388171,27.981700395591204,17.873440470604745,17.079068221346468,17.775153849133805,34.02385336332345,21.161324704757135,35.4699628541554,18.079240950819006,19.312576255585757,30.1034820544909,11.238470418449602,25.719470884787615,19.86738185814091,26.37609437060523,26.627299402997128,33.49972759537508,15.010449948507455,18.844053432548506,18.463867883598684,21.09550817020133,19.568005274246055,22.34661701474206,19.306893221190467,27.167705849354952,29.68610614197859,16.390703143632074,17.882424735158576,24.686023914606174,34.63063767912534,18.19047802358316,20.39131113204729,26.284400403544844,18.41203303335418,26.477109153412677,22.488599418287883,9.82920741773256,19.56823517932291,15.530699253867331,26.326906575875572,23.572151082298728,22.427574012318797,27.877324051690525,20.053704472818097,16.69016564164992,13.387782599643627,21.658649996787844,25.57189817513097,19.968297558133493,24.046389030327724,23.485328221465153,23.40121503435628,41.55766298952605,17.780832192648152,40.73338178319839,18.804014755405888,13.825253786550757,27.809570813839084,22.95508910047031,24.992359596658577,18.17581445531172,17.74799190383492,8.633155715505396,28.018180653867688,42.63132200562167,19.070945956387433,18.098963601657076,21.642958846175492,28.277849525705157,18.91343500521873,31.833789515548702,19.878922388475818,24.16990442470524,21.382177123796836,41.08383107643871,28.697230319889993,20.10595733583772,12.596732075457652,13.782513983008835,17.234011700442384,27.61071120964128,43.56645793142994,17.20125501732495,17.370102925040634,22.017772516944852,16.42893836413572,20.619819430419675,16.163908529165678,18.830593162929695,7.865516487332896,24.598962336864414,9.73759677639449,16.386761303944144,15.784824575552575,18.049854808583973,25.84397474262497,24.42637460164605,29.345097330193635,15.872214375288898,24.663106582983975,12.416199571917238,36.728144295793484,28.01170361677094,21.419389076541233,17.51744659358068,21.783408662196063,12.563823590090895,23.31045554436103,30.210957857526946,28.1599018743564,36.023551065671676,23.321303350868565,24.261669584393893,23.128823368707938,13.889812313558398,36.20957606617512,26.055036689467954,20.71713212811605,30.796797568723903,40.21593870544615,37.91809366394651,21.49045432235464,16.510421084479837,25.07992873241143,36.05903591032334,31.759275250616138,16.877236677454256,7.576336928073513,5.783157628432479,3.1050420867492527],\"type\":\"box\"},{\"boxpoints\":\"all\",\"fillcolor\":\"#482878\",\"jitter\":0.2,\"line\":{\"color\":\"#444\",\"width\":1},\"marker\":{\"color\":\"#482878\",\"size\":2},\"name\":\"d1\",\"whiskerwidth\":0.5,\"y\":[19.94239251550682,7.673408898557021,12.050588358463934,4.836896700301441,6.771498639596443,24.147492746930787,12.52697146704049,20.019649114186667,15.190962305873503,17.043343244692384,21.78586951751049,22.172457197894413,22.71365387235253,18.546939917071377,26.851693869665247,12.785931083725018,21.807888207419637,17.62514828427008,14.506231226350637,24.21929672061833,24.201260219477316,23.91316961236665,24.846478824291626,23.48629436732261,19.388440048295536,23.543970795127564,23.175102003774683,23.46260151396827,24.292869520767812,22.736257367452616,25.368032851042102,25.190195937481533,22.889807808333828,24.46979582985727,20.14118456847137,23.43454760564489,25.244869959062008,25.302965518199503,23.977492941549205,24.831077256409326,25.06853398800582,1.1346742993700518,18.032487942830247,26.74112547525751,26.75109072280981,24.73342581859049,26.57096923811385,25.466263710938037,23.04042660139413,24.2284729755616,25.838862274647482,24.48059741245598,15.531039541259132,25.61940649372326,25.073276350408893,25.000735962391325,25.867678626173625,24.23484056989356,23.769800501135535,17.683042598567653,23.672320944787053,21.69496929787073,25.348003500116555,24.19252545302378,24.477089931110783,25.467222899182296,21.454753939167396,20.873752504649534,12.178365541587873,22.747664726299842,25.1077144339997,24.404548986536025,24.283676750668665,21.933281750880276,24.600821910673144,5.240593149943054,14.524676656638594,13.734924268524102,18.823185859100377,16.75173176480926,22.69909108784183,21.233789506123095,24.891354137661573,28.078270878376568,31.028996439750074,16.371576900341683,18.603025339902448,25.27547274706176,23.809694358022515,31.003074920352077,18.66272464368664,28.071435002197703,16.159135894113323,30.033975684990175,25.561722953538887,19.288179304556802,23.09852115209106,24.443222389129538,20.944578993212748,21.22581747195627,18.677195102660715,22.541615094517642,17.490506763059923,16.268809486960535,24.61069543016283,18.332739089150284,23.501330670308754,21.971716694892883,23.14532082540896,16.998719579140683,23.148851952675273,12.36345183806576,15.151337055421408,27.076511659974773,20.50971442688922,28.30724852228039,27.096629681700914,21.55026264056283,19.897066413567227,21.203292149531553,6.766583180038363,26.36625495645535,8.998402204900694,20.720949873146086,21.622958077693237,14.65510078157727,20.097407527590832,19.938842295188117,19.284816727381617,21.302527527475775,23.686711863897315,12.332777151076987,26.239645783410058,24.02150153587914,16.71197730931008,19.976178682802914,26.142210867845822,19.086835754484706,10.554529188205155,16.820312258880918,23.619880726727967,17.428163689515863,18.700771511915327,20.042088432927486,22.859860773580692,19.107424075439567,18.46155241284826,23.371869642786894,23.843276822680217,14.570126408970012,23.999674991758805,12.040160259755812,25.826174780759402,14.723472855686401,26.064506110136602,11.937290940268895,14.87476704378732,19.339282378820613,12.243045556153238,13.615345462262896,13.887384909206961,20.136262236389133,18.850499758760932,19.20806366116914,20.669714639063816,16.83243492736819],\"type\":\"box\"},{\"boxpoints\":\"all\",\"fillcolor\":\"#31688e\",\"jitter\":0.2,\"line\":{\"color\":\"#444\",\"width\":1},\"marker\":{\"color\":\"#31688e\",\"size\":2},\"name\":\"d1.5\",\"whiskerwidth\":0.5,\"y\":[-1.0426736865498945,3.5593166192678325,8.217870366447219,11.169735921557958,-20.67788954127435,17.374404747872944,12.825306168723747,16.135851383198034,3.5576886352213974,-0.5711576621569134,13.004575377781013,16.94089064688613,10.82617127209257,12.234011730120704,16.12210541821619,18.814561311579297,10.812581400389806,16.089680937048264,19.916349935076084,23.084540299638203,16.841982177268882,15.30825104201975,10.742160079127455,21.727102600880116,17.658770274522723,13.957885921215109,21.968118002570225,7.606076902300571,13.08014582714727,23.776995838069833,12.326516734921956,17.850713631285906,21.472948305165872,8.03925222617586,9.000088457706203,21.45726358062041,18.973237853527525,10.827578301206962,15.48885675237622,14.42724282358096,18.11442064568338,16.925883371067005,9.072380994639667,18.71340534831876,20.58215797927233,8.271882437884534,12.31255299635562,17.97131126966115,23.27709379375686,12.330660324762457,17.364341647247873,19.709619045074444,12.801601007251996,15.847067177891113,9.175664115126242,16.276009226024104,10.991671005748023,14.778733159636742,17.458421337521816,14.758754281587862,22.61326635902418,22.10960792703012,22.7056380623794,22.567242961134657,19.580266185793143,9.609603370332609,14.741697084170076,16.333417711060434,25.494846274142542,0.2833568017987034,18.996762898961784,13.051411510558674,17.822865558086587,19.726324592070362,16.06174680626541,17.933671421818897,14.333026478158954,17.480961489786534,6.838436758975963,14.738769550647724,4.091245746864221,20.818148165084956,20.371218245395752,19.57019068352775,10.368407485346172,9.047161993415084,20.017061928209078,6.829949933541762,20.227927212889487,15.435593964807143,1.8842972895181584,12.33941341646442,3.865371487671072],\"type\":\"box\"},{\"boxpoints\":\"all\",\"fillcolor\":\"#1f9e89\",\"jitter\":0.2,\"line\":{\"color\":\"#444\",\"width\":1},\"marker\":{\"color\":\"#1f9e89\",\"size\":2},\"name\":\"d2\",\"whiskerwidth\":0.5,\"y\":[-14.291277047626444,12.76322175743987,-5.620631194183694,14.296097153911576,8.581459896533993,14.242201706779996,11.259906256181207,25.824192233724144,36.118335358531226,20.802290907290512,25.250661095193443,29.30492302332712,32.55653799963706,18.509334884036218,23.71689780895607,21.08865613139641,19.144317561964986,28.545544786840022,27.107466109226582,27.850124996568162,28.752151751535514,16.72990540494364,32.410413917989494,27.699500982511953,37.224253954100924,29.172078130229867,20.945980444138094,28.799014175962498,25.111908362632445,23.27532396958689,23.340834371325126,18.886307239522004,29.55328301534299,37.913336890221125,39.06071136853198,30.581131399638704,29.54911963686242,14.773476094993708,18.40376779395504,11.558770781297042,23.21975580059537,20.864863908133554,14.660331304550924,17.758625695882646,37.613125880758716,27.062102062846627,28.592281180353563,17.11818600359159,27.935888285397354,28.808026824326184,34.056712984065314,28.039240585612337,29.941814122949307,24.67357782505622,20.468222552424827,38.55959678964221,25.728499337255464,31.200341036812286,20.90797596416337,24.129640938802524,23.319396426932272,27.508887267795707,31.634472063028074,21.955172164276874,23.92680546141184,29.163797973594928,20.04848016489397,25.329138671700672,20.354247038063683,25.597018036660845,16.543388147303336,18.720094186237457,18.114916563300884,21.393432911273226,23.214213033028752,23.66552658555267,22.891460464413274,25.130872110634986,27.161801306053686,18.401189940589568,34.43423883655686,28.147315716963714,15.945591676557228,25.00772564246569,16.469777800909345,17.242350079872285,30.406341501116636,17.53011633530818,39.293288200205666,21.47511829613919,18.76511646796245,33.0649024534731,19.770158200732546,30.006841659452576,29.66037097558067,22.98754330683373,30.288054920034863,23.91170261729405,28.364103760826378,29.31304875138916,32.76511697274541,18.74004742893748,16.80550280837699,18.59137697500252,29.855986650992033,24.180702869026522,19.881743287585568,29.231551953922605,29.49444319179587,29.866121549512492,21.478595127020785,29.855822862341615,24.277692530297404,30.01889639917235,22.144639947674435,33.94135849727236,36.517250483984306,27.322516448872975,20.081377324918858,31.24505961764605,18.623689309841712,16.800531845370482,19.828528231410676,22.804036118274794,24.07046467435102,20.2225014375764,37.30350010388572,15.906342596960076,19.048117037373455,22.599344433727737,26.708009457525677,40.430416264628164,22.999689068678524,36.568506844548374,33.50298136275604,35.0166590128062,17.9413886060183,25.785206144553573,27.04815175320426,28.082037461391458,23.82751633698819,38.617361828740606,22.136377083810764,22.556188116792196,25.74113336770534,21.967164545408266,30.133405966353806,13.22876522112417,23.72090756405389,32.530451071587834,28.19075800097955,25.67877280107102,24.849013893888227,17.234079039485998,18.400912599088986,31.707042213990032,20.67297717080313,27.265943703823275,26.786809854511034,20.275633058064383,22.92054356559534,21.747913722084938,25.45021137316712,23.985245055152372,26.464858978332256,23.83872054503732,17.986208393470303,25.065092853922557,13.199734676720533,19.400285459822324,18.418962962200094,26.46917792563114,22.59405345057518,24.484823234092833,23.468592725167003,26.82686948184555,6.39932417248381,19.483577063788722,20.775547655808055,21.63579377293742,12.905001104910944,8.293922576186192,1.7256775434374478,14.15063212796468,11.385117348543528,12.701144611121043,1.4810991358215055,13.694551020551677,7.568578003662254,16.87912374536748,7.669183795202888,21.221070142313312,12.126870029888074,1.597854269325596,11.665679946816326,8.56772637779012,12.782694990940334,4.5436974909086825,13.954624488446889,9.39282395259321,10.009519948343073,10.589684176171817,12.6356430400546,14.543860635100794,11.168542043229523,14.411565595758002,11.58156456369862,22.691587746147132,8.071665105526574,5.488511353482612,0.6077637825739257],\"type\":\"box\"},{\"boxpoints\":\"all\",\"fillcolor\":\"#6ece58\",\"jitter\":0.2,\"line\":{\"color\":\"#444\",\"width\":1},\"marker\":{\"color\":\"#6ece58\",\"size\":2},\"name\":\"d2.5\",\"whiskerwidth\":0.5,\"y\":[1.6369543407512648,-9.126828865478391,3.717309621498025,1.4378116034948438,-10.183514334290017,-14.792962762387722,0.11656801495898073,2.3920843057465087,22.79657816648929,10.667172431913336,22.469330169700253,16.042798929896943,8.683519161488473,21.235870661249812,17.1200513724142,7.23179065503783,16.42959781995726,8.439458991024035,18.99284546151733,16.75823961373256,-1.9658571383194658,21.82026526203817,20.22793601680252,14.072867923889714,0.06325813529733426,11.981394594266975,34.33284704973577,9.931408215251645,13.500610244969529,13.909758761310679,15.325767132526982,25.880448854726858,16.049205497743692,21.07197033373673,20.27911360757202,18.902267983163036,18.72108399773662,24.935973354155642,16.51412979748708,25.474362501921174,16.333238730516115,18.29317962949985,23.876344191959873,22.757326925714455,27.785237281475666,22.387946054769813,21.4412611020537,18.600080638945638,21.53585327482656,21.699871090912207,21.77256829427086,20.57236527274121,18.108089529606005,18.61630708782958,14.772450915715634,1.4681564229147246,22.18247636512766,6.940802385037424,24.65098514948039,15.802869589045045,19.99879256672963,18.72325309692379,22.1294794794714,21.34504494018171,23.360828371966473,18.786345694069254,23.3938265198895,24.464892976470196,13.953603715597072,22.147774678409775,29.842551722957776,20.231752305158523,22.821414394155397,26.85823571367356,25.14142769463749,17.658135351085914,15.05389249610336,19.28683847193474,18.963589707211565,17.41799841785142,21.762831893777317,26.682552498256335,22.07784431496618,16.246106750714635,23.027350034933445,18.374302309534816,15.761079115902826,-0.4756530125543492,20.707292110920136,18.35746062374112,10.596874882211978,18.369384730555456,8.552030130963736,16.781824541668186,17.992590121397402,12.465780036310935,8.495664995125644,6.045094946240112,25.308367333500662,8.721043491974193,18.022474015657764,27.009630531193555,-0.7396684332754568,7.165783553431492,11.794900634495345,13.673368047924734,10.915079478424808,9.123468178359943,10.485157704240873,15.958186202670095,9.655325690934605,12.044059969633839,8.343726447642785,12.793047957388787,9.634438336135334,-0.08182061737702084,-6.928910649656068,6.561844455510371,4.719535087273492,-7.197671486382953,10.21636616865574,3.105122659523703],\"type\":\"box\"},{\"boxpoints\":\"all\",\"fillcolor\":\"#fde725\",\"jitter\":0.2,\"line\":{\"color\":\"#444\",\"width\":1},\"marker\":{\"color\":\"#fde725\",\"size\":2},\"name\":\"d3\",\"whiskerwidth\":0.5,\"y\":[-10.176479819454915,21.619115829695485,22.79515666668306,21.605725830072195,-13.142136332419506,10.257794779290354,24.329296748845046,-6.704425062195892,20.827628384519617,24.085704185892556,23.19408861396181,22.4664752201666,24.05218406705687,24.561450990496347,19.304157146459904,25.776594978384132,24.468046420586894,29.37174720687019,24.794277546931532,23.25549715405627,25.634914319069342,27.466501225968134,25.639775643145256,36.457975173368986,35.0988973323304,27.803426079474825,29.598368118997648,33.77258375607007,24.244812087291596,37.331800299792775,31.908534275375068,40.242253868849374,-21.107053193388914,36.37189730402386,0.7550868939862498,31.21102478623026,38.12442895317019,38.67930435388476,26.592314516215094,35.90372974672535,31.45851167997151,35.2914831980218,36.664078866509456,27.937372033018182,32.81783851958286,18.695866210252,40.350411647400485,27.340888514509835,31.25628519271005,38.206017489838885,30.439121414671494,34.00176920491783,26.601824113250593,38.2506172346835,2.7539759982235292,30.012385301703993,31.53250149925307,25.789517514310955,33.399832114342594,30.519519761637465,39.22490330621949,41.54651807777675,39.961766651463215,38.87258478446354,38.93203274696711,33.82708640311571,37.03579376073897,31.247228441532968,8.896504812254413,36.94588961312914,18.301758042673235,35.858554477303635,30.282624343066523,40.456544178368844,2.665503678198761,38.05534246561588,41.48665369399194,34.34679713186289,18.936216740949178,32.71482689145286,39.161735331790034,29.281200817579858,33.89998437093138,-6.264081849448596,40.26903459032807,18.898299573860623,35.22667143531982,30.946419259809673,39.75319718593569,31.851242983238485,38.51046429975441,33.31760348294935,28.824357937908566,31.036049284871464,31.5934742206939,35.39749507557509,35.58346545250131,40.00534096163691,26.666093826860198,39.81611824803437,38.513825774431105,30.15102872499204,39.068610320633276,23.86657482566325,39.36388474808488,26.14902213763052,40.47554408049386,29.55105227880798,32.45459063650825,30.9173453376503,26.14797584341085,35.98422650681693,23.526844906367767,40.73026952699895,33.01481012496688,39.89511404117861,30.680650647776485,37.91142487799631,35.090149411955515,32.31986445715231,31.891520503225777,35.835857348203895,32.33516328423956,22.013007063921993,38.861915235127356,24.532443908284332,-22.949596026660327,28.434293845815063,28.621359771018597,29.290865681231953,28.28319976349195,22.889118025299133,29.521505300192587,20.292211562419652,42.06465022278484,22.173165034572424,20.924765680340386,16.031005162589157,23.726963773000804,29.475378671703766,20.18707146763695,3.8702025094227723,25.70423694153474,14.349177339747051,23.37612399774529,25.187814315778315,29.017254433671127,26.097806380982476,12.77549639656241,29.33531020045486,19.566681581489284,37.60408406102077,15.082985603561395,27.064217030490138,28.259139866366628,17.971030624556825,25.86118370556173,28.03379208450397,34.000835584076974,37.09746775589309,32.09998689875548,26.420104563223585,27.31389817133467,29.230146640036153,14.989347680495822,17.492888596013508,24.60016729823154,23.68281251860614,25.191364064862444,20.30225444352525,33.76689239372145,25.635169802152433,30.42099072906441,22.22512045700355,21.95706542412628,27.639436688305956,31.544677612013945,25.685963919854295,28.812783479874778,24.200514650683807,18.19327262006988,31.83503986177037,28.024050851849072,25.585589104934755,26.552466658047198,24.26684822215509,35.42671555433828,30.419346492121182,32.99447162603368,24.38456984753651,27.784251633642207,34.07147463540627,27.51505061950112,20.351090489935217,37.592595683026644,29.932900128987537,26.093595278231533,24.645673051031025,20.48292554703221,34.83058198366933,33.07616438629972,6.348075868098891,32.212251250402645,28.025210055848348,28.680870795707143,24.44545993309006,34.466869510631334,24.45660702697259,32.22700697348877,26.033333028738014,23.983964669582427,24.007361039947,9.76389811694003,25.313374035459027,32.210023317937,24.118566624469974,27.905508744347234,30.56508727884668,37.917340435951154,33.415550395865196,28.676378884022817,29.606115623611416,14.666685264878861,26.4606549086494,39.89652519688293,28.916573980902346,36.474211599478465,27.87097441777237,22.096878620709873,30.7678978053234,34.01953431188116,30.26868097154826,24.869898680658423,26.073548636819847,32.06615441952692,26.516893120340484,20.750514051956227,19.950390254692348,27.89927461219119,18.46543674126799,4.308125500486603,28.67464460664306,33.95025232547212,29.85871187295464,38.64597789889424,28.43326555698905,33.031280346747366,26.505138560155615,34.79683486807419,27.450254114150844,27.217229256908603,35.0845257844438,35.657382344132905,32.477643628077494,27.489458717559838,21.17457472413007,39.28737517894136,24.23383572965608],\"type\":\"box\"}],                        {\"template\":{\"data\":{\"histogram2dcontour\":[{\"type\":\"histogram2dcontour\",\"colorbar\":{\"outlinewidth\":0,\"ticks\":\"\"},\"colorscale\":[[0.0,\"#0d0887\"],[0.1111111111111111,\"#46039f\"],[0.2222222222222222,\"#7201a8\"],[0.3333333333333333,\"#9c179e\"],[0.4444444444444444,\"#bd3786\"],[0.5555555555555556,\"#d8576b\"],[0.6666666666666666,\"#ed7953\"],[0.7777777777777778,\"#fb9f3a\"],[0.8888888888888888,\"#fdca26\"],[1.0,\"#f0f921\"]]}],\"choropleth\":[{\"type\":\"choropleth\",\"colorbar\":{\"outlinewidth\":0,\"ticks\":\"\"}}],\"histogram2d\":[{\"type\":\"histogram2d\",\"colorbar\":{\"outlinewidth\":0,\"ticks\":\"\"},\"colorscale\":[[0.0,\"#0d0887\"],[0.1111111111111111,\"#46039f\"],[0.2222222222222222,\"#7201a8\"],[0.3333333333333333,\"#9c179e\"],[0.4444444444444444,\"#bd3786\"],[0.5555555555555556,\"#d8576b\"],[0.6666666666666666,\"#ed7953\"],[0.7777777777777778,\"#fb9f3a\"],[0.8888888888888888,\"#fdca26\"],[1.0,\"#f0f921\"]]}],\"heatmap\":[{\"type\":\"heatmap\",\"colorbar\":{\"outlinewidth\":0,\"ticks\":\"\"},\"colorscale\":[[0.0,\"#0d0887\"],[0.1111111111111111,\"#46039f\"],[0.2222222222222222,\"#7201a8\"],[0.3333333333333333,\"#9c179e\"],[0.4444444444444444,\"#bd3786\"],[0.5555555555555556,\"#d8576b\"],[0.6666666666666666,\"#ed7953\"],[0.7777777777777778,\"#fb9f3a\"],[0.8888888888888888,\"#fdca26\"],[1.0,\"#f0f921\"]]}],\"heatmapgl\":[{\"type\":\"heatmapgl\",\"colorbar\":{\"outlinewidth\":0,\"ticks\":\"\"},\"colorscale\":[[0.0,\"#0d0887\"],[0.1111111111111111,\"#46039f\"],[0.2222222222222222,\"#7201a8\"],[0.3333333333333333,\"#9c179e\"],[0.4444444444444444,\"#bd3786\"],[0.5555555555555556,\"#d8576b\"],[0.6666666666666666,\"#ed7953\"],[0.7777777777777778,\"#fb9f3a\"],[0.8888888888888888,\"#fdca26\"],[1.0,\"#f0f921\"]]}],\"contourcarpet\":[{\"type\":\"contourcarpet\",\"colorbar\":{\"outlinewidth\":0,\"ticks\":\"\"}}],\"contour\":[{\"type\":\"contour\",\"colorbar\":{\"outlinewidth\":0,\"ticks\":\"\"},\"colorscale\":[[0.0,\"#0d0887\"],[0.1111111111111111,\"#46039f\"],[0.2222222222222222,\"#7201a8\"],[0.3333333333333333,\"#9c179e\"],[0.4444444444444444,\"#bd3786\"],[0.5555555555555556,\"#d8576b\"],[0.6666666666666666,\"#ed7953\"],[0.7777777777777778,\"#fb9f3a\"],[0.8888888888888888,\"#fdca26\"],[1.0,\"#f0f921\"]]}],\"surface\":[{\"type\":\"surface\",\"colorbar\":{\"outlinewidth\":0,\"ticks\":\"\"},\"colorscale\":[[0.0,\"#0d0887\"],[0.1111111111111111,\"#46039f\"],[0.2222222222222222,\"#7201a8\"],[0.3333333333333333,\"#9c179e\"],[0.4444444444444444,\"#bd3786\"],[0.5555555555555556,\"#d8576b\"],[0.6666666666666666,\"#ed7953\"],[0.7777777777777778,\"#fb9f3a\"],[0.8888888888888888,\"#fdca26\"],[1.0,\"#f0f921\"]]}],\"mesh3d\":[{\"type\":\"mesh3d\",\"colorbar\":{\"outlinewidth\":0,\"ticks\":\"\"}}],\"scatter\":[{\"fillpattern\":{\"fillmode\":\"overlay\",\"size\":10,\"solidity\":0.2},\"type\":\"scatter\"}],\"parcoords\":[{\"type\":\"parcoords\",\"line\":{\"colorbar\":{\"outlinewidth\":0,\"ticks\":\"\"}}}],\"scatterpolargl\":[{\"type\":\"scatterpolargl\",\"marker\":{\"colorbar\":{\"outlinewidth\":0,\"ticks\":\"\"}}}],\"bar\":[{\"error_x\":{\"color\":\"#2a3f5f\"},\"error_y\":{\"color\":\"#2a3f5f\"},\"marker\":{\"line\":{\"color\":\"#E5ECF6\",\"width\":0.5},\"pattern\":{\"fillmode\":\"overlay\",\"size\":10,\"solidity\":0.2}},\"type\":\"bar\"}],\"scattergeo\":[{\"type\":\"scattergeo\",\"marker\":{\"colorbar\":{\"outlinewidth\":0,\"ticks\":\"\"}}}],\"scatterpolar\":[{\"type\":\"scatterpolar\",\"marker\":{\"colorbar\":{\"outlinewidth\":0,\"ticks\":\"\"}}}],\"histogram\":[{\"marker\":{\"pattern\":{\"fillmode\":\"overlay\",\"size\":10,\"solidity\":0.2}},\"type\":\"histogram\"}],\"scattergl\":[{\"type\":\"scattergl\",\"marker\":{\"colorbar\":{\"outlinewidth\":0,\"ticks\":\"\"}}}],\"scatter3d\":[{\"type\":\"scatter3d\",\"line\":{\"colorbar\":{\"outlinewidth\":0,\"ticks\":\"\"}},\"marker\":{\"colorbar\":{\"outlinewidth\":0,\"ticks\":\"\"}}}],\"scattermapbox\":[{\"type\":\"scattermapbox\",\"marker\":{\"colorbar\":{\"outlinewidth\":0,\"ticks\":\"\"}}}],\"scatterternary\":[{\"type\":\"scatterternary\",\"marker\":{\"colorbar\":{\"outlinewidth\":0,\"ticks\":\"\"}}}],\"scattercarpet\":[{\"type\":\"scattercarpet\",\"marker\":{\"colorbar\":{\"outlinewidth\":0,\"ticks\":\"\"}}}],\"carpet\":[{\"aaxis\":{\"endlinecolor\":\"#2a3f5f\",\"gridcolor\":\"white\",\"linecolor\":\"white\",\"minorgridcolor\":\"white\",\"startlinecolor\":\"#2a3f5f\"},\"baxis\":{\"endlinecolor\":\"#2a3f5f\",\"gridcolor\":\"white\",\"linecolor\":\"white\",\"minorgridcolor\":\"white\",\"startlinecolor\":\"#2a3f5f\"},\"type\":\"carpet\"}],\"table\":[{\"cells\":{\"fill\":{\"color\":\"#EBF0F8\"},\"line\":{\"color\":\"white\"}},\"header\":{\"fill\":{\"color\":\"#C8D4E3\"},\"line\":{\"color\":\"white\"}},\"type\":\"table\"}],\"barpolar\":[{\"marker\":{\"line\":{\"color\":\"#E5ECF6\",\"width\":0.5},\"pattern\":{\"fillmode\":\"overlay\",\"size\":10,\"solidity\":0.2}},\"type\":\"barpolar\"}],\"pie\":[{\"automargin\":true,\"type\":\"pie\"}]},\"layout\":{\"autotypenumbers\":\"strict\",\"colorway\":[\"#636efa\",\"#EF553B\",\"#00cc96\",\"#ab63fa\",\"#FFA15A\",\"#19d3f3\",\"#FF6692\",\"#B6E880\",\"#FF97FF\",\"#FECB52\"],\"font\":{\"color\":\"#2a3f5f\"},\"hovermode\":\"closest\",\"hoverlabel\":{\"align\":\"left\"},\"paper_bgcolor\":\"white\",\"plot_bgcolor\":\"#E5ECF6\",\"polar\":{\"bgcolor\":\"#E5ECF6\",\"angularaxis\":{\"gridcolor\":\"white\",\"linecolor\":\"white\",\"ticks\":\"\"},\"radialaxis\":{\"gridcolor\":\"white\",\"linecolor\":\"white\",\"ticks\":\"\"}},\"ternary\":{\"bgcolor\":\"#E5ECF6\",\"aaxis\":{\"gridcolor\":\"white\",\"linecolor\":\"white\",\"ticks\":\"\"},\"baxis\":{\"gridcolor\":\"white\",\"linecolor\":\"white\",\"ticks\":\"\"},\"caxis\":{\"gridcolor\":\"white\",\"linecolor\":\"white\",\"ticks\":\"\"}},\"coloraxis\":{\"colorbar\":{\"outlinewidth\":0,\"ticks\":\"\"}},\"colorscale\":{\"sequential\":[[0.0,\"#0d0887\"],[0.1111111111111111,\"#46039f\"],[0.2222222222222222,\"#7201a8\"],[0.3333333333333333,\"#9c179e\"],[0.4444444444444444,\"#bd3786\"],[0.5555555555555556,\"#d8576b\"],[0.6666666666666666,\"#ed7953\"],[0.7777777777777778,\"#fb9f3a\"],[0.8888888888888888,\"#fdca26\"],[1.0,\"#f0f921\"]],\"sequentialminus\":[[0.0,\"#0d0887\"],[0.1111111111111111,\"#46039f\"],[0.2222222222222222,\"#7201a8\"],[0.3333333333333333,\"#9c179e\"],[0.4444444444444444,\"#bd3786\"],[0.5555555555555556,\"#d8576b\"],[0.6666666666666666,\"#ed7953\"],[0.7777777777777778,\"#fb9f3a\"],[0.8888888888888888,\"#fdca26\"],[1.0,\"#f0f921\"]],\"diverging\":[[0,\"#8e0152\"],[0.1,\"#c51b7d\"],[0.2,\"#de77ae\"],[0.3,\"#f1b6da\"],[0.4,\"#fde0ef\"],[0.5,\"#f7f7f7\"],[0.6,\"#e6f5d0\"],[0.7,\"#b8e186\"],[0.8,\"#7fbc41\"],[0.9,\"#4d9221\"],[1,\"#276419\"]]},\"xaxis\":{\"gridcolor\":\"white\",\"linecolor\":\"white\",\"ticks\":\"\",\"title\":{\"standoff\":15},\"zerolinecolor\":\"white\",\"automargin\":true,\"zerolinewidth\":2},\"yaxis\":{\"gridcolor\":\"white\",\"linecolor\":\"white\",\"ticks\":\"\",\"title\":{\"standoff\":15},\"zerolinecolor\":\"white\",\"automargin\":true,\"zerolinewidth\":2},\"scene\":{\"xaxis\":{\"backgroundcolor\":\"#E5ECF6\",\"gridcolor\":\"white\",\"linecolor\":\"white\",\"showbackground\":true,\"ticks\":\"\",\"zerolinecolor\":\"white\",\"gridwidth\":2},\"yaxis\":{\"backgroundcolor\":\"#E5ECF6\",\"gridcolor\":\"white\",\"linecolor\":\"white\",\"showbackground\":true,\"ticks\":\"\",\"zerolinecolor\":\"white\",\"gridwidth\":2},\"zaxis\":{\"backgroundcolor\":\"#E5ECF6\",\"gridcolor\":\"white\",\"linecolor\":\"white\",\"showbackground\":true,\"ticks\":\"\",\"zerolinecolor\":\"white\",\"gridwidth\":2}},\"shapedefaults\":{\"line\":{\"color\":\"#2a3f5f\"}},\"annotationdefaults\":{\"arrowcolor\":\"#2a3f5f\",\"arrowhead\":0,\"arrowwidth\":1},\"geo\":{\"bgcolor\":\"white\",\"landcolor\":\"#E5ECF6\",\"subunitcolor\":\"white\",\"showland\":true,\"showlakes\":true,\"lakecolor\":\"white\"},\"title\":{\"x\":0.05},\"mapbox\":{\"style\":\"light\"}}},\"yaxis\":{\"autorange\":true,\"showgrid\":true,\"zeroline\":true,\"dtick\":10,\"gridcolor\":\"rgb(240, 240, 240)\",\"gridwidth\":1,\"zerolinecolor\":\"rgb(240, 240, 240)\",\"zerolinewidth\":1.2},\"margin\":{\"l\":40,\"r\":30,\"b\":80,\"t\":50},\"font\":{\"family\":\"Arial\",\"size\":20,\"color\":\"black\"},\"title\":{\"text\":\"curvature\"},\"width\":600,\"height\":500,\"paper_bgcolor\":\"rgb(255, 255, 255)\",\"plot_bgcolor\":\"rgb(255, 255, 255)\",\"showlegend\":false},                        {\"responsive\": true}                    ).then(function(){\n",
       "                            \n",
       "var gd = document.getElementById('a079500d-701c-45b4-8650-762c493ad417');\n",
       "var x = new MutationObserver(function (mutations, observer) {{\n",
       "        var display = window.getComputedStyle(gd).display;\n",
       "        if (!display || display === 'none') {{\n",
       "            console.log([gd, 'removed!']);\n",
       "            Plotly.purge(gd);\n",
       "            observer.disconnect();\n",
       "        }}\n",
       "}});\n",
       "\n",
       "// Listen for the removal of the full notebook cells\n",
       "var notebookContainer = gd.closest('#notebook-container');\n",
       "if (notebookContainer) {{\n",
       "    x.observe(notebookContainer, {childList: true});\n",
       "}}\n",
       "\n",
       "// Listen for the clearing of the current output cell\n",
       "var outputEl = gd.closest('.output');\n",
       "if (outputEl) {{\n",
       "    x.observe(outputEl, {childList: true});\n",
       "}}\n",
       "\n",
       "                        })                };                });            </script>        </div>"
      ]
     },
     "metadata": {},
     "output_type": "display_data"
    }
   ],
   "source": [
    "import plotly\n",
    "import plotly.graph_objects as go\n",
    "xx = x_curvature.copy()\n",
    "x_data = ['d0','d1','d1.5','d2','d2.5','d3']\n",
    "y_data = []\n",
    "for i in range(len(unique_times)):\n",
    "    tmp_idx = np.where(times==unique_times[i])[0]\n",
    "    y_data.append(xx[tmp_idx])\n",
    "colors = list( np.array(px.colors.sequential.Viridis)[np.array([0,1,3,5,7,9])] )\n",
    "\n",
    "fig = go.Figure()\n",
    "\n",
    "for xd, yd, cls in zip(x_data, y_data, colors):\n",
    "        fig.add_trace(go.Box(\n",
    "            y=yd,\n",
    "            name=xd,\n",
    "            boxpoints='all',\n",
    "            jitter=0.2,\n",
    "            whiskerwidth=0.5,\n",
    "            fillcolor=cls,\n",
    "            marker={'color':cls},\n",
    "            line={'color':'#444'},\n",
    "            marker_size=2,\n",
    "            line_width=1)\n",
    "        )\n",
    "\n",
    "fig.update_layout(\n",
    "    title=\"curvature\",\n",
    "    yaxis=dict(\n",
    "        autorange=True,\n",
    "        showgrid=True,\n",
    "        zeroline=True,\n",
    "        dtick=10,\n",
    "        gridcolor='rgb(240, 240, 240)',\n",
    "        gridwidth=1,\n",
    "        zerolinecolor='rgb(240, 240, 240)',\n",
    "        zerolinewidth=1.2,\n",
    "    ),\n",
    "    margin=dict(\n",
    "        l=40,\n",
    "        r=30,\n",
    "        b=80,\n",
    "        t=50,\n",
    "    ),\n",
    "    width = 600,\n",
    "    height = 500,\n",
    "    font=dict(\n",
    "        family=\"Arial\",\n",
    "        size=20,\n",
    "        color=\"black\"\n",
    "    ),\n",
    "    paper_bgcolor='rgb(255, 255, 255)',\n",
    "    plot_bgcolor='rgb(255, 255, 255)',\n",
    "    showlegend=False\n",
    ")\n",
    "\n",
    "fig.show()\n",
    "fig.write_image(\"./boxplot_curvature.pdf\")"
   ]
  },
  {
   "cell_type": "code",
   "execution_count": 22,
   "id": "92419d9e-0a96-441b-82f0-566410d268b2",
   "metadata": {},
   "outputs": [
    {
     "data": {
      "application/vnd.plotly.v1+json": {
       "config": {
        "plotlyServerURL": "https://plot.ly"
       },
       "data": [
        {
         "boxpoints": "all",
         "fillcolor": "#440154",
         "jitter": 0.2,
         "line": {
          "color": "#444",
          "width": 1
         },
         "marker": {
          "color": "#440154",
          "size": 2
         },
         "name": "d0",
         "type": "box",
         "whiskerwidth": 0.5,
         "y": [
          256.04222548007965,
          258.7785277366638,
          259.1706335544586,
          258.17512464523315,
          261.6927306652069,
          257.4058641195297,
          259.84898829460144,
          283.54517590999603,
          281.22003948688507,
          270.5025645494461,
          260.3197412490845,
          273.8568991422653,
          275.3767786026001,
          257.63520896434784,
          277.1115015745163,
          265.4135718345642,
          265.23084580898285,
          280.261043548584,
          270.37833285331726,
          268.8891849517822,
          265.6753969192505,
          270.19135427474976,
          271.3495638370514,
          261.362425327301,
          263.5951951742172,
          261.06867718696594,
          270.95968437194824,
          265.29380202293396,
          276.76837408542633,
          263.7841178178787,
          261.1722928285599,
          262.5244514942169,
          263.46015763282776,
          272.4272140264511,
          268.2391382455826,
          266.6280176639557,
          262.7037969827652,
          257.2464950084686,
          260.4149899482727,
          265.07418954372406,
          283.68767833709717,
          266.8641119003296,
          264.2924392223358,
          281.6206067800522,
          256.5383286476135,
          270.49790024757385,
          260.4869067668915,
          277.83119654655457,
          259.5093015432358,
          274.100825548172,
          260.5925567150116,
          258.83976578712463,
          266.48221838474274,
          257.21733570098877,
          260.3213211297989,
          282.3664929866791,
          255.97846281528473,
          263.99320900440216,
          264.11333560943604,
          266.19611752033234,
          270.5206791162491,
          264.23226392269135,
          272.57333850860596,
          264.4324632883072,
          264.7466000318527,
          260.463036775589,
          259.48865282535553,
          263.13076317310333,
          265.46393978595734,
          261.11649954319,
          274.0230133533478,
          264.8443396091461,
          261.48067331314087,
          265.913365483284,
          262.2504177093506,
          262.725789308548,
          258.7915589809418,
          271.7423276901245,
          258.4985831975937,
          257.31610131263733,
          258.5210213661194,
          258.9945822954178,
          260.95823311805725,
          268.6787977218628,
          265.47406005859375,
          261.1220133304596,
          264.27197670936584,
          259.4493007659912,
          260.83654499053955,
          266.33537900447845,
          268.91649079322815,
          260.75465393066406,
          277.61817955970764,
          267.3147302865982,
          264.5857136249542,
          267.98034715652466,
          260.9009529352188,
          261.3062860965729,
          269.1999864578247,
          260.9490946531296,
          262.3171663284302,
          272.4712281227112,
          269.2071055173874,
          269.557785153389,
          270.64943957328796,
          263.32911241054535,
          258.6330827474594,
          264.70664167404175,
          260.7801444530487,
          265.72389221191406,
          270.58105063438416,
          258.25873386859894,
          268.1612386703491,
          263.19253289699554,
          268.43631279468536,
          262.3280471563339,
          259.0159065723419,
          259.15300476551056,
          264.0411946773529,
          266.9300545454025,
          267.01485550403595,
          268.04100716114044,
          261.3148293495178,
          261.1805057525635,
          261.6272370815277,
          259.954958319664,
          259.30861127376556,
          268.6872547864914,
          265.32259809970856,
          258.2127774953842,
          258.52616679668427,
          268.97972786426544,
          265.3862456083298,
          264.5348583459854,
          264.9559198617935,
          263.98276007175446,
          257.8307634592056,
          274.58811616897583,
          263.0679770708084,
          274.5716732740402,
          263.3152137994766,
          260.0716828107834,
          262.82216942310333,
          259.37734854221344,
          268.87130868434906,
          267.87162601947784,
          272.5742783546448,
          262.7725670337677,
          260.9544142484665,
          258.2244075536728,
          263.4011265039444,
          255.53362345695496,
          267.92077672481537,
          257.8037658929825,
          273.27378726005554,
          256.11014461517334,
          270.74091029167175,
          274.14703345298767,
          261.93716299533844,
          257.3953903913498,
          266.657590508461,
          260.8745667934418,
          267.5703384876251,
          284.98609602451324,
          260.12159287929535,
          254.93057107925415,
          264.6075426340103,
          263.882581114769,
          263.80259704589844,
          261.53644120693207,
          259.9977060556412,
          259.12959015369415,
          263.6793268918991,
          258.758623957634,
          263.8848377466202,
          256.02273738384247,
          258.71615767478943,
          261.893666267395,
          272.74334931373596,
          271.2926995754242,
          267.8135176897049,
          264.5965893268585,
          254.00913989543915,
          265.0525506734848,
          268.1660383939743,
          264.2063580751419,
          268.5373332500458,
          266.9706622362137,
          272.494425535202,
          263.38978719711304,
          277.6239471435547,
          259.4514573812485,
          273.7347061634064,
          277.10379815101624,
          268.50749695301056,
          264.7384303808212,
          261.8565671443939,
          268.3953003883362,
          260.6937555074692,
          270.67291581630707,
          266.11412727832794,
          276.30023753643036,
          256.43703520298004,
          260.837420463562,
          263.10246992111206,
          266.9811041355133,
          262.1452133655548,
          269.8790405988693,
          263.5721935033798,
          263.2725794315338,
          258.9887181520462,
          260.9724614620209,
          260.8515546321869,
          263.1509906053543,
          263.5527732372284,
          276.69994246959686,
          258.19618797302246,
          257.3725868463516,
          267.69139766693115,
          259.69596910476685,
          257.03063130378723,
          254.85988593101501,
          267.6820698976517,
          271.70703399181366,
          263.38737773895264,
          260.26828134059906,
          259.2300353050232,
          267.7169631719589,
          283.113165140152,
          286.2066111564636,
          306.7714886665344
         ]
        },
        {
         "boxpoints": "all",
         "fillcolor": "#482878",
         "jitter": 0.2,
         "line": {
          "color": "#444",
          "width": 1
         },
         "marker": {
          "color": "#482878",
          "size": 2
         },
         "name": "d1",
         "type": "box",
         "whiskerwidth": 0.5,
         "y": [
          262.11760568618774,
          267.0151277780533,
          287.2583248615265,
          291.99717342853546,
          301.1764010190964,
          289.84792029857635,
          314.12960255146027,
          303.07382321357727,
          302.92882215976715,
          294.483335852623,
          299.16304528713226,
          291.4470020532608,
          290.3048392534256,
          292.64445090293884,
          287.550385594368,
          286.67420566082,
          288.82483530044556,
          300.35918366909027,
          303.5328016281128,
          286.73059117794037,
          297.85815966129303,
          291.69280683994293,
          296.6743794679642,
          289.9931675195694,
          292.53231489658356,
          297.4780594110489,
          296.85158908367157,
          292.5324491262436,
          298.97454011440277,
          286.69673812389374,
          301.5940488576889,
          305.4366601705551,
          292.4027293920517,
          295.5700386762619,
          298.64559638500214,
          293.8084474802017,
          299.2697206735611,
          289.7963925600052,
          288.0531448125839,
          296.23230254650116,
          290.2355772256851,
          309.83948838710785,
          283.22066938877106,
          299.0117515325546,
          296.79136526584625,
          300.92871034145355,
          294.8199928998947,
          298.924888253212,
          292.58589601516724,
          292.48055493831635,
          308.06000220775604,
          295.28143441677094,
          285.6819157600403,
          299.4296692609787,
          294.56106555461884,
          294.47294199466705,
          303.4826935529709,
          298.4038254022598,
          305.7132111787796,
          294.11189925670624,
          296.34566152095795,
          309.3075793981552,
          303.2023764848709,
          298.8777779340744,
          293.9812797307968,
          294.3461512327194,
          295.3657993078232,
          296.89670050144196,
          287.31974256038666,
          295.24388778209686,
          290.0489650964737,
          302.72096478939056,
          294.92274248600006,
          291.33953642845154,
          294.3281058073044,
          295.38513135910034,
          296.96600675582886,
          306.13988757133484,
          293.1285927295685,
          301.4781519174576,
          293.35135900974274,
          292.234760761261,
          294.4900654554367,
          293.90277457237244,
          295.6977628469467,
          299.55761909484863,
          291.54121148586273,
          291.447177529335,
          292.9798575639725,
          294.39529979228973,
          296.1678502559662,
          295.413290143013,
          296.45986807346344,
          293.86502146720886,
          296.0811837911606,
          290.285404086113,
          296.239982008934,
          296.0261937379837,
          297.2353996038437,
          292.65129125118256,
          297.7236382961273,
          287.5798542499542,
          293.4885150194168,
          311.79310178756714,
          295.0456739664078,
          298.1687012910843,
          281.5067162513733,
          297.2401684522629,
          300.35611486434937,
          287.49107360839844,
          296.794052362442,
          297.4539942741394,
          283.89217245578766,
          292.0417524576187,
          294.0084785223007,
          293.4910308122635,
          305.26758348941803,
          294.77705705165863,
          291.19664692878723,
          288.11049354076385,
          293.08386504650116,
          299.45452904701233,
          287.1213392019272,
          299.16918337345123,
          296.2209266424179,
          294.6670113801956,
          294.6402337551117,
          307.83890879154205,
          293.41484439373016,
          291.05491971969604,
          296.5229389667511,
          299.52949368953705,
          295.47660195827484,
          296.80852258205414,
          294.16156363487244,
          288.5452963113785,
          295.160053730011,
          299.24663257598877,
          295.7818475961685,
          299.2864525318146,
          301.79082429409027,
          291.4593976736069,
          293.4255715608597,
          299.01687812805176,
          297.1561334133148,
          293.85952520370483,
          303.5128709077835,
          302.65660655498505,
          289.43895423412323,
          314.46650075912476,
          298.13358891010284,
          293.8884229660034,
          294.37721359729767,
          290.36588299274445,
          291.4457825422287,
          297.7500538825989,
          310.4353711605072,
          302.3132792711258,
          291.6815274953842,
          283.7018783092499,
          296.01580584049225,
          287.8391649723053,
          300.8995074033737,
          300.97016870975494,
          293.6458753347397,
          324.28657507896423
         ]
        },
        {
         "boxpoints": "all",
         "fillcolor": "#31688e",
         "jitter": 0.2,
         "line": {
          "color": "#444",
          "width": 1
         },
         "marker": {
          "color": "#31688e",
          "size": 2
         },
         "name": "d1.5",
         "type": "box",
         "whiskerwidth": 0.5,
         "y": [
          330.22574973106384,
          314.24065256118774,
          307.3349697589874,
          282.5127011537552,
          322.8709497451782,
          313.0154095888138,
          316.87048876285553,
          318.1240962743759,
          325.12790751457214,
          334.3150084018707,
          321.0987058877945,
          311.9946528673172,
          319.63543725013733,
          310.3688510656357,
          331.0355771780014,
          341.33028757572174,
          344.4461374282837,
          328.6791124343872,
          311.50197517871857,
          312.6442483663559,
          322.30916154384613,
          326.32252311706543,
          360.8412845134735,
          330.8800036907196,
          334.3041161298752,
          349.8320894241333,
          318.0976880788803,
          346.8006043434143,
          327.44978296756744,
          313.2972666025162,
          318.1149033308029,
          308.42974174022675,
          327.47756230831146,
          352.6434416770935,
          336.70922100543976,
          308.0410410165787,
          315.69359505176544,
          352.27833914756775,
          351.5788152217865,
          315.7174447774887,
          317.6218806505203,
          345.066264629364,
          341.37525153160095,
          319.7882957458496,
          342.07674956321716,
          335.60986709594727,
          347.8827347755432,
          342.928857088089,
          316.6436080932617,
          334.2238793373108,
          321.9878748655319,
          337.4722876548767,
          336.80692648887634,
          344.9786365032196,
          335.26702857017517,
          323.2576221227646,
          328.703155875206,
          319.6704372167587,
          324.9494661092758,
          351.81438636779785,
          307.79554426670074,
          325.20511651039124,
          309.8703795671463,
          308.29916298389435,
          338.56998658180237,
          332.1775230169296,
          322.6725903749466,
          308.243985414505,
          320.2760065793991,
          362.7276141643524,
          327.07854068279266,
          333.2728521823883,
          335.10134267807007,
          312.9756988286972,
          335.10494470596313,
          320.4159129858017,
          335.8637342453003,
          321.56677401065826,
          341.6900701522827,
          346.32057452201843,
          333.9100686311722,
          322.6112015247345,
          313.7642127275467,
          322.8396883010864,
          350.64859795570374,
          336.1851499080658,
          320.77700769901276,
          339.142067193985,
          334.69281029701233,
          323.93820571899414,
          354.4234371185303,
          323.82912385463715,
          341.3799401521683
         ]
        },
        {
         "boxpoints": "all",
         "fillcolor": "#1f9e89",
         "jitter": 0.2,
         "line": {
          "color": "#444",
          "width": 1
         },
         "marker": {
          "color": "#1f9e89",
          "size": 2
         },
         "name": "d2",
         "type": "box",
         "whiskerwidth": 0.5,
         "y": [
          346.53268361091614,
          297.51541912555695,
          355.3467398881912,
          302.35716557502747,
          303.69424748420715,
          339.3978910446167,
          340.4849224090576,
          301.4860610961914,
          301.174289226532,
          308.41832733154297,
          307.91530418395996,
          307.13996291160583,
          305.39839708805084,
          323.78896951675415,
          304.3468096256256,
          308.59328961372375,
          312.4848759174347,
          304.15677404403687,
          312.9911788702011,
          307.6474531888962,
          302.672110080719,
          335.46616983413696,
          307.352964758873,
          304.20253348350525,
          300.6639790534973,
          302.5305119752884,
          316.0962325334549,
          298.405966758728,
          298.98436427116394,
          314.01987755298615,
          305.8201229572296,
          305.99797916412354,
          299.8736414909363,
          293.7554051876068,
          299.6605702638626,
          295.4247190952301,
          293.6704008579254,
          325.9384218454361,
          304.6995403766632,
          308.6881585121155,
          308.2913702726364,
          304.22541880607605,
          320.7967836856842,
          313.5100578069687,
          299.91588163375854,
          310.1626626253128,
          301.45425748825073,
          318.53786528110504,
          302.143296957016,
          301.07457208633423,
          302.85579657554626,
          299.9244408607483,
          297.5648031234741,
          307.9726949930191,
          316.0086852312088,
          297.8587107658386,
          309.54999220371246,
          296.83040595054626,
          304.53294110298157,
          301.6451871395111,
          309.95753824710846,
          299.23421716690063,
          302.6634021997452,
          306.1170789003372,
          317.0055915117264,
          299.0249574184418,
          298.6164834499359,
          303.03021025657654,
          302.8355278968811,
          313.1692283153534,
          314.97719061374664,
          318.64401257038116,
          312.64089930057526,
          301.6407253742218,
          297.2039155960083,
          307.13400053977966,
          303.93365585803986,
          314.5663561820984,
          299.1036516427994,
          303.23272705078125,
          305.893749833107,
          310.4116188287735,
          328.183007478714,
          299.823731303215,
          313.57640993595123,
          313.9364113807678,
          298.65855181217194,
          309.9793553352356,
          303.61405646800995,
          312.11438822746277,
          310.9524692296982,
          299.9952030181885,
          304.7988551855087,
          297.89587473869324,
          298.22908532619476,
          305.5515148639679,
          298.8416372537613,
          302.4872627258301,
          298.20537543296814,
          305.48551774024963,
          300.4131407737732,
          305.3051743507385,
          298.5006766319275,
          310.2246905565262,
          305.2358535528183,
          302.33507561683655,
          307.0495958328247,
          309.6495100259781,
          300.0744881629944,
          304.7920814752579,
          312.6704202890396,
          300.20050621032715,
          300.23149490356445,
          304.7098660469055,
          309.5324513912201,
          298.27145862579346,
          297.9826605319977,
          317.9975941181183,
          318.1869659423828,
          309.1944760084152,
          311.7794580459595,
          330.27450919151306,
          320.5496048927307,
          312.24257457256317,
          303.95233607292175,
          322.5412333011627,
          300.04933309555054,
          334.5174551010132,
          317.5678234100342,
          304.15828013420105,
          307.0962790250778,
          298.71232867240906,
          307.29089319705963,
          298.4550504684448,
          301.60037994384766,
          298.5106658935547,
          318.2183655500412,
          298.7026779651642,
          317.39519810676575,
          326.62156200408936,
          325.5077677965164,
          304.40129244327545,
          321.70321691036224,
          322.05688416957855,
          326.3723695278168,
          307.7937387228012,
          315.48073422908783,
          340.01208782196045,
          328.1229317188263,
          303.25275897979736,
          322.6612856388092,
          334.3501262664795,
          321.42860972881317,
          315.37779223918915,
          319.88119518756866,
          317.0891318321228,
          325.1967098712921,
          323.0401964187622,
          320.9707679748535,
          331.70268726348877,
          321.5722951889038,
          314.99081885814667,
          327.0348641872406,
          325.71073067188263,
          318.6854478120804,
          318.10698568820953,
          318.6253913640976,
          323.9063391685486,
          330.00961232185364,
          318.03080093860626,
          309.4481381177902,
          325.295929312706,
          339.0540978908539,
          324.81971621513367,
          328.33798837661743,
          321.7806122303009,
          343.4134202003479,
          337.4743413925171,
          330.9852819442749,
          329.2903678417206,
          344.1284556388855,
          343.94229459762573,
          347.06535959243774,
          319.5150443315506,
          309.38226759433746,
          313.5829141139984,
          334.9628472328186,
          325.74244916439056,
          340.4763536453247,
          328.26600182056427,
          334.0700435638428,
          324.8703223466873,
          347.3828408718109,
          335.4196877479553,
          315.08698177337646,
          326.6119759082794,
          328.902193069458,
          318.1563161611557,
          333.37079429626465,
          345.8491599559784,
          317.91822266578674,
          327.8400696516037,
          327.112255692482,
          308.53998041152954,
          324.8036812543869,
          317.5512274503708,
          327.2803692817688,
          321.89527451992035,
          343.64746379852295,
          337.084614276886,
          357.86861062049866
         ]
        },
        {
         "boxpoints": "all",
         "fillcolor": "#6ece58",
         "jitter": 0.2,
         "line": {
          "color": "#444",
          "width": 1
         },
         "marker": {
          "color": "#6ece58",
          "size": 2
         },
         "name": "d2.5",
         "type": "box",
         "whiskerwidth": 0.5,
         "y": [
          352.0066467523575,
          364.62178242206573,
          299.9974157810211,
          367.01929008960724,
          359.8279047012329,
          360.0061230659485,
          361.18002927303314,
          356.5319845676422,
          304.03482842445374,
          324.44229423999786,
          317.108646273613,
          316.46927404403687,
          313.0444003343582,
          305.9392178058624,
          332.08162772655487,
          322.4080585241318,
          322.0608161687851,
          316.4403825998306,
          313.6341630220413,
          318.8070124387741,
          322.042032122612,
          305.1971890926361,
          317.7509652376175,
          315.7751314640045,
          325.66789841651917,
          322.5836683511734,
          300.3588516712189,
          314.96072947978973,
          325.9108954668045,
          321.4555015563965,
          320.7613925933838,
          304.4827218055725,
          328.78566658496857,
          309.1321793794632,
          305.3885064125061,
          304.9849132299423,
          311.2390549182892,
          298.05786871910095,
          304.56038093566895,
          305.6371068954468,
          315.91468942165375,
          311.71746265888214,
          305.7295391559601,
          303.43204402923584,
          306.2237868309021,
          306.6901831626892,
          306.1457061767578,
          302.85333156585693,
          302.06730937957764,
          306.9048900604248,
          325.117751121521,
          335.46448397636414,
          333.2923581600189,
          326.5699920654297,
          343.02226161956787,
          341.31875681877136,
          334.83277201652527,
          347.3592176437378,
          327.862717628479,
          334.4353518486023,
          330.5837953090668,
          331.3545751571655,
          330.21107006073,
          335.7128303050995,
          330.9976580142975,
          321.96021258831024,
          329.8128659725189,
          330.14477825164795,
          336.4437668323517,
          328.80826139450073,
          311.9387401342392,
          329.9241738319397,
          332.87576365470886,
          325.51113390922546,
          329.94637084007263,
          326.3224403858185,
          333.70775032043457,
          327.64420115947723,
          338.2634599208832,
          341.58441162109375,
          337.7718322277069,
          322.37714290618896,
          337.35248947143555,
          336.0955603122711,
          323.1841574907303,
          330.4876112937927,
          340.1523389816284,
          335.8453414440155,
          334.41175055503845,
          335.5008087158203,
          317.01691806316376,
          336.7124183177948,
          339.48585772514343,
          337.51096653938293,
          323.75853407382965,
          332.8173780441284,
          338.5143029689789,
          336.07855117321014,
          330.54619884490967,
          327.6037372350693,
          320.7482850551605,
          316.4391340017319,
          332.0112864971161,
          349.31211709976196,
          324.8307250738144,
          324.1961227655411,
          359.6235251426697,
          329.6472464799881,
          331.776039481163,
          344.336342215538,
          346.2965145111084,
          320.50258231163025,
          350.7198622226715,
          331.6441878080368,
          331.7812308073044,
          346.89903950691223,
          344.51990389823914,
          349.0657696723938,
          356.94783210754395,
          355.15759456157684,
          329.8444014787674,
          307.78144550323486
         ]
        },
        {
         "boxpoints": "all",
         "fillcolor": "#fde725",
         "jitter": 0.2,
         "line": {
          "color": "#444",
          "width": 1
         },
         "marker": {
          "color": "#fde725",
          "size": 2
         },
         "name": "d3",
         "type": "box",
         "whiskerwidth": 0.5,
         "y": [
          330.91305327415466,
          316.24918389320374,
          315.5299484729767,
          306.43562150001526,
          328.1070899963379,
          328.5944015979767,
          312.9869408607483,
          340.27984976768494,
          318.63460993766785,
          312.74721097946167,
          310.48136162757874,
          318.1583127975464,
          315.27757000923157,
          310.50065994262695,
          315.76544857025146,
          315.41158080101013,
          310.70871090888977,
          298.3118951320648,
          309.79723834991455,
          316.6589255332947,
          314.60259675979614,
          311.77236318588257,
          302.6946852207184,
          295.41154193878174,
          298.1084303855896,
          303.06650257110596,
          301.67550444602966,
          295.3946771621704,
          303.9152970314026,
          295.7683279514313,
          295.43009877204895,
          295.90038418769836,
          348.8986418247223,
          296.2322850227356,
          328.47827887535095,
          299.62013602256775,
          295.3423161506653,
          295.0977420806885,
          302.7989730834961,
          296.3803005218506,
          299.1298987865448,
          299.18949723243713,
          299.1807267665863,
          301.2748256921768,
          292.97577929496765,
          304.05532920360565,
          294.23651099205017,
          306.0116139650345,
          297.50779914855957,
          292.9033246040344,
          302.14478290081024,
          295.82479333877563,
          299.34810853004456,
          293.15705037117004,
          300.2768247127533,
          298.9803218841553,
          295.74081683158875,
          312.71726858615875,
          295.39793133735657,
          299.107301235199,
          295.5522954463959,
          292.4431221485138,
          293.8486816883087,
          298.2487186193466,
          293.1686773300171,
          298.68536043167114,
          297.5408146381378,
          295.94343864917755,
          303.1958986520767,
          295.8762369155884,
          306.99579668045044,
          294.5517089366913,
          302.0062177181244,
          294.72887539863586,
          316.04258489608765,
          293.8676917552948,
          292.7990207672119,
          294.83385181427,
          306.12710916996,
          293.3085980415344,
          296.01748299598694,
          297.7410008907318,
          296.1206817626953,
          324.4860545396805,
          292.8995249271393,
          304.72636234760284,
          296.81775665283203,
          301.38090658187866,
          293.25419092178345,
          299.79393124580383,
          291.8219459056854,
          303.45131146907806,
          299.2453224658966,
          297.1761305332184,
          295.9794919490814,
          296.3153922557831,
          298.5745635032654,
          296.235280752182,
          300.4206540584564,
          291.0183103084564,
          296.83161067962646,
          297.6166400909424,
          293.13438725471497,
          305.5346268415451,
          294.96413826942444,
          300.86212182044983,
          294.3218238353729,
          295.46044278144836,
          294.8455855846405,
          293.9017345905304,
          300.23087882995605,
          295.4183554649353,
          298.49346828460693,
          295.08114981651306,
          296.73551774024963,
          296.1849479675293,
          294.79795932769775,
          296.9761528968811,
          294.2509262561798,
          296.0621557235718,
          295.34415316581726,
          298.40272879600525,
          298.82352662086487,
          310.0436317920685,
          294.0233736038208,
          299.65834641456604,
          348.96656262874603,
          300.05922198295593,
          310.15194821357727,
          311.5640573501587,
          314.12755393981934,
          317.83715772628784,
          315.52936935424805,
          323.40112113952637,
          311.27984523773193,
          320.934650182724,
          325.4732086658478,
          328.6681299209595,
          314.3381805419922,
          312.11756587028503,
          319.494912147522,
          314.3074803352356,
          316.09699034690857,
          322.87085604667664,
          320.5619869232178,
          313.39369082450867,
          315.1950261592865,
          315.1435823440552,
          324.599906206131,
          319.33262753486633,
          329.2398872375488,
          312.9713988304138,
          328.12235140800476,
          313.57357716560364,
          318.24993348121643,
          322.1384332180023,
          321.07941460609436,
          310.7855792045593,
          314.9845085144043,
          316.9113163948059,
          314.2791111469269,
          316.4607539176941,
          314.952267408371,
          318.1170995235443,
          331.35792207717896,
          322.61681747436523,
          321.2157144546509,
          319.8636555671692,
          317.99626898765564,
          314.85227966308594,
          311.8477747440338,
          306.65188360214233,
          315.92284178733826,
          322.37779235839844,
          321.0681252479553,
          314.14469480514526,
          316.71949529647827,
          314.8196656703949,
          320.48130440711975,
          322.3488748073578,
          323.3812711238861,
          312.966046333313,
          315.10940313339233,
          319.7402141094208,
          308.9513611793518,
          319.0095851421356,
          312.957106590271,
          316.38888597488403,
          311.6570692062378,
          320.2825412750244,
          315.9906599521637,
          317.31110095977783,
          312.59898567199707,
          323.24493050575256,
          315.71255588531494,
          312.6064705848694,
          318.8570511341095,
          321.19113945961,
          324.8480281829834,
          308.4173402786255,
          318.4786832332611,
          319.40185499191284,
          313.4235339164734,
          321.80867624282837,
          314.6383397579193,
          324.2636616230011,
          313.01137375831604,
          319.0674660205841,
          315.95155668258667,
          322.1117105484009,
          319.7638828754425,
          325.450336933136,
          327.3996202945709,
          318.9397237300873,
          316.5082905292511,
          314.6582295894623,
          313.8046238422394,
          313.73191595077515,
          310.6022799015045,
          307.46385502815247,
          313.9227731227875,
          315.4004919528961,
          318.2453701496124,
          314.4938328266144,
          312.5010550022125,
          313.27089524269104,
          309.30090522766113,
          311.25293016433716,
          321.8829622268677,
          308.73106241226196,
          313.7124717235565,
          313.732928276062,
          320.7596950531006,
          318.77557945251465,
          314.6984050273895,
          314.1801769733429,
          320.6858069896698,
          330.24436020851135,
          315.9034354686737,
          320.69547033309937,
          329.2434380054474,
          315.13974809646606,
          313.1542317867279,
          313.5046389102936,
          318.4416129589081,
          321.9369375705719,
          316.0013151168823,
          316.15889835357666,
          317.2700231075287,
          317.43127369880676,
          315.00090885162354,
          319.80680084228516,
          317.8882246017456,
          314.0666468143463,
          315.68317127227783,
          320.63188791275024,
          311.34656524658203,
          318.01277136802673
         ]
        }
       ],
       "layout": {
        "font": {
         "color": "black",
         "family": "Arial",
         "size": 20
        },
        "height": 500,
        "margin": {
         "b": 80,
         "l": 40,
         "r": 30,
         "t": 50
        },
        "paper_bgcolor": "rgb(255, 255, 255)",
        "plot_bgcolor": "rgb(255, 255, 255)",
        "showlegend": false,
        "template": {
         "data": {
          "bar": [
           {
            "error_x": {
             "color": "#2a3f5f"
            },
            "error_y": {
             "color": "#2a3f5f"
            },
            "marker": {
             "line": {
              "color": "#E5ECF6",
              "width": 0.5
             },
             "pattern": {
              "fillmode": "overlay",
              "size": 10,
              "solidity": 0.2
             }
            },
            "type": "bar"
           }
          ],
          "barpolar": [
           {
            "marker": {
             "line": {
              "color": "#E5ECF6",
              "width": 0.5
             },
             "pattern": {
              "fillmode": "overlay",
              "size": 10,
              "solidity": 0.2
             }
            },
            "type": "barpolar"
           }
          ],
          "carpet": [
           {
            "aaxis": {
             "endlinecolor": "#2a3f5f",
             "gridcolor": "white",
             "linecolor": "white",
             "minorgridcolor": "white",
             "startlinecolor": "#2a3f5f"
            },
            "baxis": {
             "endlinecolor": "#2a3f5f",
             "gridcolor": "white",
             "linecolor": "white",
             "minorgridcolor": "white",
             "startlinecolor": "#2a3f5f"
            },
            "type": "carpet"
           }
          ],
          "choropleth": [
           {
            "colorbar": {
             "outlinewidth": 0,
             "ticks": ""
            },
            "type": "choropleth"
           }
          ],
          "contour": [
           {
            "colorbar": {
             "outlinewidth": 0,
             "ticks": ""
            },
            "colorscale": [
             [
              0,
              "#0d0887"
             ],
             [
              0.1111111111111111,
              "#46039f"
             ],
             [
              0.2222222222222222,
              "#7201a8"
             ],
             [
              0.3333333333333333,
              "#9c179e"
             ],
             [
              0.4444444444444444,
              "#bd3786"
             ],
             [
              0.5555555555555556,
              "#d8576b"
             ],
             [
              0.6666666666666666,
              "#ed7953"
             ],
             [
              0.7777777777777778,
              "#fb9f3a"
             ],
             [
              0.8888888888888888,
              "#fdca26"
             ],
             [
              1,
              "#f0f921"
             ]
            ],
            "type": "contour"
           }
          ],
          "contourcarpet": [
           {
            "colorbar": {
             "outlinewidth": 0,
             "ticks": ""
            },
            "type": "contourcarpet"
           }
          ],
          "heatmap": [
           {
            "colorbar": {
             "outlinewidth": 0,
             "ticks": ""
            },
            "colorscale": [
             [
              0,
              "#0d0887"
             ],
             [
              0.1111111111111111,
              "#46039f"
             ],
             [
              0.2222222222222222,
              "#7201a8"
             ],
             [
              0.3333333333333333,
              "#9c179e"
             ],
             [
              0.4444444444444444,
              "#bd3786"
             ],
             [
              0.5555555555555556,
              "#d8576b"
             ],
             [
              0.6666666666666666,
              "#ed7953"
             ],
             [
              0.7777777777777778,
              "#fb9f3a"
             ],
             [
              0.8888888888888888,
              "#fdca26"
             ],
             [
              1,
              "#f0f921"
             ]
            ],
            "type": "heatmap"
           }
          ],
          "heatmapgl": [
           {
            "colorbar": {
             "outlinewidth": 0,
             "ticks": ""
            },
            "colorscale": [
             [
              0,
              "#0d0887"
             ],
             [
              0.1111111111111111,
              "#46039f"
             ],
             [
              0.2222222222222222,
              "#7201a8"
             ],
             [
              0.3333333333333333,
              "#9c179e"
             ],
             [
              0.4444444444444444,
              "#bd3786"
             ],
             [
              0.5555555555555556,
              "#d8576b"
             ],
             [
              0.6666666666666666,
              "#ed7953"
             ],
             [
              0.7777777777777778,
              "#fb9f3a"
             ],
             [
              0.8888888888888888,
              "#fdca26"
             ],
             [
              1,
              "#f0f921"
             ]
            ],
            "type": "heatmapgl"
           }
          ],
          "histogram": [
           {
            "marker": {
             "pattern": {
              "fillmode": "overlay",
              "size": 10,
              "solidity": 0.2
             }
            },
            "type": "histogram"
           }
          ],
          "histogram2d": [
           {
            "colorbar": {
             "outlinewidth": 0,
             "ticks": ""
            },
            "colorscale": [
             [
              0,
              "#0d0887"
             ],
             [
              0.1111111111111111,
              "#46039f"
             ],
             [
              0.2222222222222222,
              "#7201a8"
             ],
             [
              0.3333333333333333,
              "#9c179e"
             ],
             [
              0.4444444444444444,
              "#bd3786"
             ],
             [
              0.5555555555555556,
              "#d8576b"
             ],
             [
              0.6666666666666666,
              "#ed7953"
             ],
             [
              0.7777777777777778,
              "#fb9f3a"
             ],
             [
              0.8888888888888888,
              "#fdca26"
             ],
             [
              1,
              "#f0f921"
             ]
            ],
            "type": "histogram2d"
           }
          ],
          "histogram2dcontour": [
           {
            "colorbar": {
             "outlinewidth": 0,
             "ticks": ""
            },
            "colorscale": [
             [
              0,
              "#0d0887"
             ],
             [
              0.1111111111111111,
              "#46039f"
             ],
             [
              0.2222222222222222,
              "#7201a8"
             ],
             [
              0.3333333333333333,
              "#9c179e"
             ],
             [
              0.4444444444444444,
              "#bd3786"
             ],
             [
              0.5555555555555556,
              "#d8576b"
             ],
             [
              0.6666666666666666,
              "#ed7953"
             ],
             [
              0.7777777777777778,
              "#fb9f3a"
             ],
             [
              0.8888888888888888,
              "#fdca26"
             ],
             [
              1,
              "#f0f921"
             ]
            ],
            "type": "histogram2dcontour"
           }
          ],
          "mesh3d": [
           {
            "colorbar": {
             "outlinewidth": 0,
             "ticks": ""
            },
            "type": "mesh3d"
           }
          ],
          "parcoords": [
           {
            "line": {
             "colorbar": {
              "outlinewidth": 0,
              "ticks": ""
             }
            },
            "type": "parcoords"
           }
          ],
          "pie": [
           {
            "automargin": true,
            "type": "pie"
           }
          ],
          "scatter": [
           {
            "fillpattern": {
             "fillmode": "overlay",
             "size": 10,
             "solidity": 0.2
            },
            "type": "scatter"
           }
          ],
          "scatter3d": [
           {
            "line": {
             "colorbar": {
              "outlinewidth": 0,
              "ticks": ""
             }
            },
            "marker": {
             "colorbar": {
              "outlinewidth": 0,
              "ticks": ""
             }
            },
            "type": "scatter3d"
           }
          ],
          "scattercarpet": [
           {
            "marker": {
             "colorbar": {
              "outlinewidth": 0,
              "ticks": ""
             }
            },
            "type": "scattercarpet"
           }
          ],
          "scattergeo": [
           {
            "marker": {
             "colorbar": {
              "outlinewidth": 0,
              "ticks": ""
             }
            },
            "type": "scattergeo"
           }
          ],
          "scattergl": [
           {
            "marker": {
             "colorbar": {
              "outlinewidth": 0,
              "ticks": ""
             }
            },
            "type": "scattergl"
           }
          ],
          "scattermapbox": [
           {
            "marker": {
             "colorbar": {
              "outlinewidth": 0,
              "ticks": ""
             }
            },
            "type": "scattermapbox"
           }
          ],
          "scatterpolar": [
           {
            "marker": {
             "colorbar": {
              "outlinewidth": 0,
              "ticks": ""
             }
            },
            "type": "scatterpolar"
           }
          ],
          "scatterpolargl": [
           {
            "marker": {
             "colorbar": {
              "outlinewidth": 0,
              "ticks": ""
             }
            },
            "type": "scatterpolargl"
           }
          ],
          "scatterternary": [
           {
            "marker": {
             "colorbar": {
              "outlinewidth": 0,
              "ticks": ""
             }
            },
            "type": "scatterternary"
           }
          ],
          "surface": [
           {
            "colorbar": {
             "outlinewidth": 0,
             "ticks": ""
            },
            "colorscale": [
             [
              0,
              "#0d0887"
             ],
             [
              0.1111111111111111,
              "#46039f"
             ],
             [
              0.2222222222222222,
              "#7201a8"
             ],
             [
              0.3333333333333333,
              "#9c179e"
             ],
             [
              0.4444444444444444,
              "#bd3786"
             ],
             [
              0.5555555555555556,
              "#d8576b"
             ],
             [
              0.6666666666666666,
              "#ed7953"
             ],
             [
              0.7777777777777778,
              "#fb9f3a"
             ],
             [
              0.8888888888888888,
              "#fdca26"
             ],
             [
              1,
              "#f0f921"
             ]
            ],
            "type": "surface"
           }
          ],
          "table": [
           {
            "cells": {
             "fill": {
              "color": "#EBF0F8"
             },
             "line": {
              "color": "white"
             }
            },
            "header": {
             "fill": {
              "color": "#C8D4E3"
             },
             "line": {
              "color": "white"
             }
            },
            "type": "table"
           }
          ]
         },
         "layout": {
          "annotationdefaults": {
           "arrowcolor": "#2a3f5f",
           "arrowhead": 0,
           "arrowwidth": 1
          },
          "autotypenumbers": "strict",
          "coloraxis": {
           "colorbar": {
            "outlinewidth": 0,
            "ticks": ""
           }
          },
          "colorscale": {
           "diverging": [
            [
             0,
             "#8e0152"
            ],
            [
             0.1,
             "#c51b7d"
            ],
            [
             0.2,
             "#de77ae"
            ],
            [
             0.3,
             "#f1b6da"
            ],
            [
             0.4,
             "#fde0ef"
            ],
            [
             0.5,
             "#f7f7f7"
            ],
            [
             0.6,
             "#e6f5d0"
            ],
            [
             0.7,
             "#b8e186"
            ],
            [
             0.8,
             "#7fbc41"
            ],
            [
             0.9,
             "#4d9221"
            ],
            [
             1,
             "#276419"
            ]
           ],
           "sequential": [
            [
             0,
             "#0d0887"
            ],
            [
             0.1111111111111111,
             "#46039f"
            ],
            [
             0.2222222222222222,
             "#7201a8"
            ],
            [
             0.3333333333333333,
             "#9c179e"
            ],
            [
             0.4444444444444444,
             "#bd3786"
            ],
            [
             0.5555555555555556,
             "#d8576b"
            ],
            [
             0.6666666666666666,
             "#ed7953"
            ],
            [
             0.7777777777777778,
             "#fb9f3a"
            ],
            [
             0.8888888888888888,
             "#fdca26"
            ],
            [
             1,
             "#f0f921"
            ]
           ],
           "sequentialminus": [
            [
             0,
             "#0d0887"
            ],
            [
             0.1111111111111111,
             "#46039f"
            ],
            [
             0.2222222222222222,
             "#7201a8"
            ],
            [
             0.3333333333333333,
             "#9c179e"
            ],
            [
             0.4444444444444444,
             "#bd3786"
            ],
            [
             0.5555555555555556,
             "#d8576b"
            ],
            [
             0.6666666666666666,
             "#ed7953"
            ],
            [
             0.7777777777777778,
             "#fb9f3a"
            ],
            [
             0.8888888888888888,
             "#fdca26"
            ],
            [
             1,
             "#f0f921"
            ]
           ]
          },
          "colorway": [
           "#636efa",
           "#EF553B",
           "#00cc96",
           "#ab63fa",
           "#FFA15A",
           "#19d3f3",
           "#FF6692",
           "#B6E880",
           "#FF97FF",
           "#FECB52"
          ],
          "font": {
           "color": "#2a3f5f"
          },
          "geo": {
           "bgcolor": "white",
           "lakecolor": "white",
           "landcolor": "#E5ECF6",
           "showlakes": true,
           "showland": true,
           "subunitcolor": "white"
          },
          "hoverlabel": {
           "align": "left"
          },
          "hovermode": "closest",
          "mapbox": {
           "style": "light"
          },
          "paper_bgcolor": "white",
          "plot_bgcolor": "#E5ECF6",
          "polar": {
           "angularaxis": {
            "gridcolor": "white",
            "linecolor": "white",
            "ticks": ""
           },
           "bgcolor": "#E5ECF6",
           "radialaxis": {
            "gridcolor": "white",
            "linecolor": "white",
            "ticks": ""
           }
          },
          "scene": {
           "xaxis": {
            "backgroundcolor": "#E5ECF6",
            "gridcolor": "white",
            "gridwidth": 2,
            "linecolor": "white",
            "showbackground": true,
            "ticks": "",
            "zerolinecolor": "white"
           },
           "yaxis": {
            "backgroundcolor": "#E5ECF6",
            "gridcolor": "white",
            "gridwidth": 2,
            "linecolor": "white",
            "showbackground": true,
            "ticks": "",
            "zerolinecolor": "white"
           },
           "zaxis": {
            "backgroundcolor": "#E5ECF6",
            "gridcolor": "white",
            "gridwidth": 2,
            "linecolor": "white",
            "showbackground": true,
            "ticks": "",
            "zerolinecolor": "white"
           }
          },
          "shapedefaults": {
           "line": {
            "color": "#2a3f5f"
           }
          },
          "ternary": {
           "aaxis": {
            "gridcolor": "white",
            "linecolor": "white",
            "ticks": ""
           },
           "baxis": {
            "gridcolor": "white",
            "linecolor": "white",
            "ticks": ""
           },
           "bgcolor": "#E5ECF6",
           "caxis": {
            "gridcolor": "white",
            "linecolor": "white",
            "ticks": ""
           }
          },
          "title": {
           "x": 0.05
          },
          "xaxis": {
           "automargin": true,
           "gridcolor": "white",
           "linecolor": "white",
           "ticks": "",
           "title": {
            "standoff": 15
           },
           "zerolinecolor": "white",
           "zerolinewidth": 2
          },
          "yaxis": {
           "automargin": true,
           "gridcolor": "white",
           "linecolor": "white",
           "ticks": "",
           "title": {
            "standoff": 15
           },
           "zerolinecolor": "white",
           "zerolinewidth": 2
          }
         }
        },
        "title": {
         "text": "H0 total persistence"
        },
        "width": 600,
        "yaxis": {
         "autorange": true,
         "dtick": 10,
         "gridcolor": "rgb(240, 240, 240)",
         "gridwidth": 1,
         "showgrid": true,
         "zeroline": true,
         "zerolinecolor": "rgb(240, 240, 240)",
         "zerolinewidth": 1.2
        }
       }
      },
      "text/html": [
       "<div>                            <div id=\"16e9471f-36ce-4814-8ee8-ecafc120c651\" class=\"plotly-graph-div\" style=\"height:500px; width:600px;\"></div>            <script type=\"text/javascript\">                require([\"plotly\"], function(Plotly) {                    window.PLOTLYENV=window.PLOTLYENV || {};                                    if (document.getElementById(\"16e9471f-36ce-4814-8ee8-ecafc120c651\")) {                    Plotly.newPlot(                        \"16e9471f-36ce-4814-8ee8-ecafc120c651\",                        [{\"boxpoints\":\"all\",\"fillcolor\":\"#440154\",\"jitter\":0.2,\"line\":{\"color\":\"#444\",\"width\":1},\"marker\":{\"color\":\"#440154\",\"size\":2},\"name\":\"d0\",\"whiskerwidth\":0.5,\"y\":[256.04222548007965,258.7785277366638,259.1706335544586,258.17512464523315,261.6927306652069,257.4058641195297,259.84898829460144,283.54517590999603,281.22003948688507,270.5025645494461,260.3197412490845,273.8568991422653,275.3767786026001,257.63520896434784,277.1115015745163,265.4135718345642,265.23084580898285,280.261043548584,270.37833285331726,268.8891849517822,265.6753969192505,270.19135427474976,271.3495638370514,261.362425327301,263.5951951742172,261.06867718696594,270.95968437194824,265.29380202293396,276.76837408542633,263.7841178178787,261.1722928285599,262.5244514942169,263.46015763282776,272.4272140264511,268.2391382455826,266.6280176639557,262.7037969827652,257.2464950084686,260.4149899482727,265.07418954372406,283.68767833709717,266.8641119003296,264.2924392223358,281.6206067800522,256.5383286476135,270.49790024757385,260.4869067668915,277.83119654655457,259.5093015432358,274.100825548172,260.5925567150116,258.83976578712463,266.48221838474274,257.21733570098877,260.3213211297989,282.3664929866791,255.97846281528473,263.99320900440216,264.11333560943604,266.19611752033234,270.5206791162491,264.23226392269135,272.57333850860596,264.4324632883072,264.7466000318527,260.463036775589,259.48865282535553,263.13076317310333,265.46393978595734,261.11649954319,274.0230133533478,264.8443396091461,261.48067331314087,265.913365483284,262.2504177093506,262.725789308548,258.7915589809418,271.7423276901245,258.4985831975937,257.31610131263733,258.5210213661194,258.9945822954178,260.95823311805725,268.6787977218628,265.47406005859375,261.1220133304596,264.27197670936584,259.4493007659912,260.83654499053955,266.33537900447845,268.91649079322815,260.75465393066406,277.61817955970764,267.3147302865982,264.5857136249542,267.98034715652466,260.9009529352188,261.3062860965729,269.1999864578247,260.9490946531296,262.3171663284302,272.4712281227112,269.2071055173874,269.557785153389,270.64943957328796,263.32911241054535,258.6330827474594,264.70664167404175,260.7801444530487,265.72389221191406,270.58105063438416,258.25873386859894,268.1612386703491,263.19253289699554,268.43631279468536,262.3280471563339,259.0159065723419,259.15300476551056,264.0411946773529,266.9300545454025,267.01485550403595,268.04100716114044,261.3148293495178,261.1805057525635,261.6272370815277,259.954958319664,259.30861127376556,268.6872547864914,265.32259809970856,258.2127774953842,258.52616679668427,268.97972786426544,265.3862456083298,264.5348583459854,264.9559198617935,263.98276007175446,257.8307634592056,274.58811616897583,263.0679770708084,274.5716732740402,263.3152137994766,260.0716828107834,262.82216942310333,259.37734854221344,268.87130868434906,267.87162601947784,272.5742783546448,262.7725670337677,260.9544142484665,258.2244075536728,263.4011265039444,255.53362345695496,267.92077672481537,257.8037658929825,273.27378726005554,256.11014461517334,270.74091029167175,274.14703345298767,261.93716299533844,257.3953903913498,266.657590508461,260.8745667934418,267.5703384876251,284.98609602451324,260.12159287929535,254.93057107925415,264.6075426340103,263.882581114769,263.80259704589844,261.53644120693207,259.9977060556412,259.12959015369415,263.6793268918991,258.758623957634,263.8848377466202,256.02273738384247,258.71615767478943,261.893666267395,272.74334931373596,271.2926995754242,267.8135176897049,264.5965893268585,254.00913989543915,265.0525506734848,268.1660383939743,264.2063580751419,268.5373332500458,266.9706622362137,272.494425535202,263.38978719711304,277.6239471435547,259.4514573812485,273.7347061634064,277.10379815101624,268.50749695301056,264.7384303808212,261.8565671443939,268.3953003883362,260.6937555074692,270.67291581630707,266.11412727832794,276.30023753643036,256.43703520298004,260.837420463562,263.10246992111206,266.9811041355133,262.1452133655548,269.8790405988693,263.5721935033798,263.2725794315338,258.9887181520462,260.9724614620209,260.8515546321869,263.1509906053543,263.5527732372284,276.69994246959686,258.19618797302246,257.3725868463516,267.69139766693115,259.69596910476685,257.03063130378723,254.85988593101501,267.6820698976517,271.70703399181366,263.38737773895264,260.26828134059906,259.2300353050232,267.7169631719589,283.113165140152,286.2066111564636,306.7714886665344],\"type\":\"box\"},{\"boxpoints\":\"all\",\"fillcolor\":\"#482878\",\"jitter\":0.2,\"line\":{\"color\":\"#444\",\"width\":1},\"marker\":{\"color\":\"#482878\",\"size\":2},\"name\":\"d1\",\"whiskerwidth\":0.5,\"y\":[262.11760568618774,267.0151277780533,287.2583248615265,291.99717342853546,301.1764010190964,289.84792029857635,314.12960255146027,303.07382321357727,302.92882215976715,294.483335852623,299.16304528713226,291.4470020532608,290.3048392534256,292.64445090293884,287.550385594368,286.67420566082,288.82483530044556,300.35918366909027,303.5328016281128,286.73059117794037,297.85815966129303,291.69280683994293,296.6743794679642,289.9931675195694,292.53231489658356,297.4780594110489,296.85158908367157,292.5324491262436,298.97454011440277,286.69673812389374,301.5940488576889,305.4366601705551,292.4027293920517,295.5700386762619,298.64559638500214,293.8084474802017,299.2697206735611,289.7963925600052,288.0531448125839,296.23230254650116,290.2355772256851,309.83948838710785,283.22066938877106,299.0117515325546,296.79136526584625,300.92871034145355,294.8199928998947,298.924888253212,292.58589601516724,292.48055493831635,308.06000220775604,295.28143441677094,285.6819157600403,299.4296692609787,294.56106555461884,294.47294199466705,303.4826935529709,298.4038254022598,305.7132111787796,294.11189925670624,296.34566152095795,309.3075793981552,303.2023764848709,298.8777779340744,293.9812797307968,294.3461512327194,295.3657993078232,296.89670050144196,287.31974256038666,295.24388778209686,290.0489650964737,302.72096478939056,294.92274248600006,291.33953642845154,294.3281058073044,295.38513135910034,296.96600675582886,306.13988757133484,293.1285927295685,301.4781519174576,293.35135900974274,292.234760761261,294.4900654554367,293.90277457237244,295.6977628469467,299.55761909484863,291.54121148586273,291.447177529335,292.9798575639725,294.39529979228973,296.1678502559662,295.413290143013,296.45986807346344,293.86502146720886,296.0811837911606,290.285404086113,296.239982008934,296.0261937379837,297.2353996038437,292.65129125118256,297.7236382961273,287.5798542499542,293.4885150194168,311.79310178756714,295.0456739664078,298.1687012910843,281.5067162513733,297.2401684522629,300.35611486434937,287.49107360839844,296.794052362442,297.4539942741394,283.89217245578766,292.0417524576187,294.0084785223007,293.4910308122635,305.26758348941803,294.77705705165863,291.19664692878723,288.11049354076385,293.08386504650116,299.45452904701233,287.1213392019272,299.16918337345123,296.2209266424179,294.6670113801956,294.6402337551117,307.83890879154205,293.41484439373016,291.05491971969604,296.5229389667511,299.52949368953705,295.47660195827484,296.80852258205414,294.16156363487244,288.5452963113785,295.160053730011,299.24663257598877,295.7818475961685,299.2864525318146,301.79082429409027,291.4593976736069,293.4255715608597,299.01687812805176,297.1561334133148,293.85952520370483,303.5128709077835,302.65660655498505,289.43895423412323,314.46650075912476,298.13358891010284,293.8884229660034,294.37721359729767,290.36588299274445,291.4457825422287,297.7500538825989,310.4353711605072,302.3132792711258,291.6815274953842,283.7018783092499,296.01580584049225,287.8391649723053,300.8995074033737,300.97016870975494,293.6458753347397,324.28657507896423],\"type\":\"box\"},{\"boxpoints\":\"all\",\"fillcolor\":\"#31688e\",\"jitter\":0.2,\"line\":{\"color\":\"#444\",\"width\":1},\"marker\":{\"color\":\"#31688e\",\"size\":2},\"name\":\"d1.5\",\"whiskerwidth\":0.5,\"y\":[330.22574973106384,314.24065256118774,307.3349697589874,282.5127011537552,322.8709497451782,313.0154095888138,316.87048876285553,318.1240962743759,325.12790751457214,334.3150084018707,321.0987058877945,311.9946528673172,319.63543725013733,310.3688510656357,331.0355771780014,341.33028757572174,344.4461374282837,328.6791124343872,311.50197517871857,312.6442483663559,322.30916154384613,326.32252311706543,360.8412845134735,330.8800036907196,334.3041161298752,349.8320894241333,318.0976880788803,346.8006043434143,327.44978296756744,313.2972666025162,318.1149033308029,308.42974174022675,327.47756230831146,352.6434416770935,336.70922100543976,308.0410410165787,315.69359505176544,352.27833914756775,351.5788152217865,315.7174447774887,317.6218806505203,345.066264629364,341.37525153160095,319.7882957458496,342.07674956321716,335.60986709594727,347.8827347755432,342.928857088089,316.6436080932617,334.2238793373108,321.9878748655319,337.4722876548767,336.80692648887634,344.9786365032196,335.26702857017517,323.2576221227646,328.703155875206,319.6704372167587,324.9494661092758,351.81438636779785,307.79554426670074,325.20511651039124,309.8703795671463,308.29916298389435,338.56998658180237,332.1775230169296,322.6725903749466,308.243985414505,320.2760065793991,362.7276141643524,327.07854068279266,333.2728521823883,335.10134267807007,312.9756988286972,335.10494470596313,320.4159129858017,335.8637342453003,321.56677401065826,341.6900701522827,346.32057452201843,333.9100686311722,322.6112015247345,313.7642127275467,322.8396883010864,350.64859795570374,336.1851499080658,320.77700769901276,339.142067193985,334.69281029701233,323.93820571899414,354.4234371185303,323.82912385463715,341.3799401521683],\"type\":\"box\"},{\"boxpoints\":\"all\",\"fillcolor\":\"#1f9e89\",\"jitter\":0.2,\"line\":{\"color\":\"#444\",\"width\":1},\"marker\":{\"color\":\"#1f9e89\",\"size\":2},\"name\":\"d2\",\"whiskerwidth\":0.5,\"y\":[346.53268361091614,297.51541912555695,355.3467398881912,302.35716557502747,303.69424748420715,339.3978910446167,340.4849224090576,301.4860610961914,301.174289226532,308.41832733154297,307.91530418395996,307.13996291160583,305.39839708805084,323.78896951675415,304.3468096256256,308.59328961372375,312.4848759174347,304.15677404403687,312.9911788702011,307.6474531888962,302.672110080719,335.46616983413696,307.352964758873,304.20253348350525,300.6639790534973,302.5305119752884,316.0962325334549,298.405966758728,298.98436427116394,314.01987755298615,305.8201229572296,305.99797916412354,299.8736414909363,293.7554051876068,299.6605702638626,295.4247190952301,293.6704008579254,325.9384218454361,304.6995403766632,308.6881585121155,308.2913702726364,304.22541880607605,320.7967836856842,313.5100578069687,299.91588163375854,310.1626626253128,301.45425748825073,318.53786528110504,302.143296957016,301.07457208633423,302.85579657554626,299.9244408607483,297.5648031234741,307.9726949930191,316.0086852312088,297.8587107658386,309.54999220371246,296.83040595054626,304.53294110298157,301.6451871395111,309.95753824710846,299.23421716690063,302.6634021997452,306.1170789003372,317.0055915117264,299.0249574184418,298.6164834499359,303.03021025657654,302.8355278968811,313.1692283153534,314.97719061374664,318.64401257038116,312.64089930057526,301.6407253742218,297.2039155960083,307.13400053977966,303.93365585803986,314.5663561820984,299.1036516427994,303.23272705078125,305.893749833107,310.4116188287735,328.183007478714,299.823731303215,313.57640993595123,313.9364113807678,298.65855181217194,309.9793553352356,303.61405646800995,312.11438822746277,310.9524692296982,299.9952030181885,304.7988551855087,297.89587473869324,298.22908532619476,305.5515148639679,298.8416372537613,302.4872627258301,298.20537543296814,305.48551774024963,300.4131407737732,305.3051743507385,298.5006766319275,310.2246905565262,305.2358535528183,302.33507561683655,307.0495958328247,309.6495100259781,300.0744881629944,304.7920814752579,312.6704202890396,300.20050621032715,300.23149490356445,304.7098660469055,309.5324513912201,298.27145862579346,297.9826605319977,317.9975941181183,318.1869659423828,309.1944760084152,311.7794580459595,330.27450919151306,320.5496048927307,312.24257457256317,303.95233607292175,322.5412333011627,300.04933309555054,334.5174551010132,317.5678234100342,304.15828013420105,307.0962790250778,298.71232867240906,307.29089319705963,298.4550504684448,301.60037994384766,298.5106658935547,318.2183655500412,298.7026779651642,317.39519810676575,326.62156200408936,325.5077677965164,304.40129244327545,321.70321691036224,322.05688416957855,326.3723695278168,307.7937387228012,315.48073422908783,340.01208782196045,328.1229317188263,303.25275897979736,322.6612856388092,334.3501262664795,321.42860972881317,315.37779223918915,319.88119518756866,317.0891318321228,325.1967098712921,323.0401964187622,320.9707679748535,331.70268726348877,321.5722951889038,314.99081885814667,327.0348641872406,325.71073067188263,318.6854478120804,318.10698568820953,318.6253913640976,323.9063391685486,330.00961232185364,318.03080093860626,309.4481381177902,325.295929312706,339.0540978908539,324.81971621513367,328.33798837661743,321.7806122303009,343.4134202003479,337.4743413925171,330.9852819442749,329.2903678417206,344.1284556388855,343.94229459762573,347.06535959243774,319.5150443315506,309.38226759433746,313.5829141139984,334.9628472328186,325.74244916439056,340.4763536453247,328.26600182056427,334.0700435638428,324.8703223466873,347.3828408718109,335.4196877479553,315.08698177337646,326.6119759082794,328.902193069458,318.1563161611557,333.37079429626465,345.8491599559784,317.91822266578674,327.8400696516037,327.112255692482,308.53998041152954,324.8036812543869,317.5512274503708,327.2803692817688,321.89527451992035,343.64746379852295,337.084614276886,357.86861062049866],\"type\":\"box\"},{\"boxpoints\":\"all\",\"fillcolor\":\"#6ece58\",\"jitter\":0.2,\"line\":{\"color\":\"#444\",\"width\":1},\"marker\":{\"color\":\"#6ece58\",\"size\":2},\"name\":\"d2.5\",\"whiskerwidth\":0.5,\"y\":[352.0066467523575,364.62178242206573,299.9974157810211,367.01929008960724,359.8279047012329,360.0061230659485,361.18002927303314,356.5319845676422,304.03482842445374,324.44229423999786,317.108646273613,316.46927404403687,313.0444003343582,305.9392178058624,332.08162772655487,322.4080585241318,322.0608161687851,316.4403825998306,313.6341630220413,318.8070124387741,322.042032122612,305.1971890926361,317.7509652376175,315.7751314640045,325.66789841651917,322.5836683511734,300.3588516712189,314.96072947978973,325.9108954668045,321.4555015563965,320.7613925933838,304.4827218055725,328.78566658496857,309.1321793794632,305.3885064125061,304.9849132299423,311.2390549182892,298.05786871910095,304.56038093566895,305.6371068954468,315.91468942165375,311.71746265888214,305.7295391559601,303.43204402923584,306.2237868309021,306.6901831626892,306.1457061767578,302.85333156585693,302.06730937957764,306.9048900604248,325.117751121521,335.46448397636414,333.2923581600189,326.5699920654297,343.02226161956787,341.31875681877136,334.83277201652527,347.3592176437378,327.862717628479,334.4353518486023,330.5837953090668,331.3545751571655,330.21107006073,335.7128303050995,330.9976580142975,321.96021258831024,329.8128659725189,330.14477825164795,336.4437668323517,328.80826139450073,311.9387401342392,329.9241738319397,332.87576365470886,325.51113390922546,329.94637084007263,326.3224403858185,333.70775032043457,327.64420115947723,338.2634599208832,341.58441162109375,337.7718322277069,322.37714290618896,337.35248947143555,336.0955603122711,323.1841574907303,330.4876112937927,340.1523389816284,335.8453414440155,334.41175055503845,335.5008087158203,317.01691806316376,336.7124183177948,339.48585772514343,337.51096653938293,323.75853407382965,332.8173780441284,338.5143029689789,336.07855117321014,330.54619884490967,327.6037372350693,320.7482850551605,316.4391340017319,332.0112864971161,349.31211709976196,324.8307250738144,324.1961227655411,359.6235251426697,329.6472464799881,331.776039481163,344.336342215538,346.2965145111084,320.50258231163025,350.7198622226715,331.6441878080368,331.7812308073044,346.89903950691223,344.51990389823914,349.0657696723938,356.94783210754395,355.15759456157684,329.8444014787674,307.78144550323486],\"type\":\"box\"},{\"boxpoints\":\"all\",\"fillcolor\":\"#fde725\",\"jitter\":0.2,\"line\":{\"color\":\"#444\",\"width\":1},\"marker\":{\"color\":\"#fde725\",\"size\":2},\"name\":\"d3\",\"whiskerwidth\":0.5,\"y\":[330.91305327415466,316.24918389320374,315.5299484729767,306.43562150001526,328.1070899963379,328.5944015979767,312.9869408607483,340.27984976768494,318.63460993766785,312.74721097946167,310.48136162757874,318.1583127975464,315.27757000923157,310.50065994262695,315.76544857025146,315.41158080101013,310.70871090888977,298.3118951320648,309.79723834991455,316.6589255332947,314.60259675979614,311.77236318588257,302.6946852207184,295.41154193878174,298.1084303855896,303.06650257110596,301.67550444602966,295.3946771621704,303.9152970314026,295.7683279514313,295.43009877204895,295.90038418769836,348.8986418247223,296.2322850227356,328.47827887535095,299.62013602256775,295.3423161506653,295.0977420806885,302.7989730834961,296.3803005218506,299.1298987865448,299.18949723243713,299.1807267665863,301.2748256921768,292.97577929496765,304.05532920360565,294.23651099205017,306.0116139650345,297.50779914855957,292.9033246040344,302.14478290081024,295.82479333877563,299.34810853004456,293.15705037117004,300.2768247127533,298.9803218841553,295.74081683158875,312.71726858615875,295.39793133735657,299.107301235199,295.5522954463959,292.4431221485138,293.8486816883087,298.2487186193466,293.1686773300171,298.68536043167114,297.5408146381378,295.94343864917755,303.1958986520767,295.8762369155884,306.99579668045044,294.5517089366913,302.0062177181244,294.72887539863586,316.04258489608765,293.8676917552948,292.7990207672119,294.83385181427,306.12710916996,293.3085980415344,296.01748299598694,297.7410008907318,296.1206817626953,324.4860545396805,292.8995249271393,304.72636234760284,296.81775665283203,301.38090658187866,293.25419092178345,299.79393124580383,291.8219459056854,303.45131146907806,299.2453224658966,297.1761305332184,295.9794919490814,296.3153922557831,298.5745635032654,296.235280752182,300.4206540584564,291.0183103084564,296.83161067962646,297.6166400909424,293.13438725471497,305.5346268415451,294.96413826942444,300.86212182044983,294.3218238353729,295.46044278144836,294.8455855846405,293.9017345905304,300.23087882995605,295.4183554649353,298.49346828460693,295.08114981651306,296.73551774024963,296.1849479675293,294.79795932769775,296.9761528968811,294.2509262561798,296.0621557235718,295.34415316581726,298.40272879600525,298.82352662086487,310.0436317920685,294.0233736038208,299.65834641456604,348.96656262874603,300.05922198295593,310.15194821357727,311.5640573501587,314.12755393981934,317.83715772628784,315.52936935424805,323.40112113952637,311.27984523773193,320.934650182724,325.4732086658478,328.6681299209595,314.3381805419922,312.11756587028503,319.494912147522,314.3074803352356,316.09699034690857,322.87085604667664,320.5619869232178,313.39369082450867,315.1950261592865,315.1435823440552,324.599906206131,319.33262753486633,329.2398872375488,312.9713988304138,328.12235140800476,313.57357716560364,318.24993348121643,322.1384332180023,321.07941460609436,310.7855792045593,314.9845085144043,316.9113163948059,314.2791111469269,316.4607539176941,314.952267408371,318.1170995235443,331.35792207717896,322.61681747436523,321.2157144546509,319.8636555671692,317.99626898765564,314.85227966308594,311.8477747440338,306.65188360214233,315.92284178733826,322.37779235839844,321.0681252479553,314.14469480514526,316.71949529647827,314.8196656703949,320.48130440711975,322.3488748073578,323.3812711238861,312.966046333313,315.10940313339233,319.7402141094208,308.9513611793518,319.0095851421356,312.957106590271,316.38888597488403,311.6570692062378,320.2825412750244,315.9906599521637,317.31110095977783,312.59898567199707,323.24493050575256,315.71255588531494,312.6064705848694,318.8570511341095,321.19113945961,324.8480281829834,308.4173402786255,318.4786832332611,319.40185499191284,313.4235339164734,321.80867624282837,314.6383397579193,324.2636616230011,313.01137375831604,319.0674660205841,315.95155668258667,322.1117105484009,319.7638828754425,325.450336933136,327.3996202945709,318.9397237300873,316.5082905292511,314.6582295894623,313.8046238422394,313.73191595077515,310.6022799015045,307.46385502815247,313.9227731227875,315.4004919528961,318.2453701496124,314.4938328266144,312.5010550022125,313.27089524269104,309.30090522766113,311.25293016433716,321.8829622268677,308.73106241226196,313.7124717235565,313.732928276062,320.7596950531006,318.77557945251465,314.6984050273895,314.1801769733429,320.6858069896698,330.24436020851135,315.9034354686737,320.69547033309937,329.2434380054474,315.13974809646606,313.1542317867279,313.5046389102936,318.4416129589081,321.9369375705719,316.0013151168823,316.15889835357666,317.2700231075287,317.43127369880676,315.00090885162354,319.80680084228516,317.8882246017456,314.0666468143463,315.68317127227783,320.63188791275024,311.34656524658203,318.01277136802673],\"type\":\"box\"}],                        {\"template\":{\"data\":{\"histogram2dcontour\":[{\"type\":\"histogram2dcontour\",\"colorbar\":{\"outlinewidth\":0,\"ticks\":\"\"},\"colorscale\":[[0.0,\"#0d0887\"],[0.1111111111111111,\"#46039f\"],[0.2222222222222222,\"#7201a8\"],[0.3333333333333333,\"#9c179e\"],[0.4444444444444444,\"#bd3786\"],[0.5555555555555556,\"#d8576b\"],[0.6666666666666666,\"#ed7953\"],[0.7777777777777778,\"#fb9f3a\"],[0.8888888888888888,\"#fdca26\"],[1.0,\"#f0f921\"]]}],\"choropleth\":[{\"type\":\"choropleth\",\"colorbar\":{\"outlinewidth\":0,\"ticks\":\"\"}}],\"histogram2d\":[{\"type\":\"histogram2d\",\"colorbar\":{\"outlinewidth\":0,\"ticks\":\"\"},\"colorscale\":[[0.0,\"#0d0887\"],[0.1111111111111111,\"#46039f\"],[0.2222222222222222,\"#7201a8\"],[0.3333333333333333,\"#9c179e\"],[0.4444444444444444,\"#bd3786\"],[0.5555555555555556,\"#d8576b\"],[0.6666666666666666,\"#ed7953\"],[0.7777777777777778,\"#fb9f3a\"],[0.8888888888888888,\"#fdca26\"],[1.0,\"#f0f921\"]]}],\"heatmap\":[{\"type\":\"heatmap\",\"colorbar\":{\"outlinewidth\":0,\"ticks\":\"\"},\"colorscale\":[[0.0,\"#0d0887\"],[0.1111111111111111,\"#46039f\"],[0.2222222222222222,\"#7201a8\"],[0.3333333333333333,\"#9c179e\"],[0.4444444444444444,\"#bd3786\"],[0.5555555555555556,\"#d8576b\"],[0.6666666666666666,\"#ed7953\"],[0.7777777777777778,\"#fb9f3a\"],[0.8888888888888888,\"#fdca26\"],[1.0,\"#f0f921\"]]}],\"heatmapgl\":[{\"type\":\"heatmapgl\",\"colorbar\":{\"outlinewidth\":0,\"ticks\":\"\"},\"colorscale\":[[0.0,\"#0d0887\"],[0.1111111111111111,\"#46039f\"],[0.2222222222222222,\"#7201a8\"],[0.3333333333333333,\"#9c179e\"],[0.4444444444444444,\"#bd3786\"],[0.5555555555555556,\"#d8576b\"],[0.6666666666666666,\"#ed7953\"],[0.7777777777777778,\"#fb9f3a\"],[0.8888888888888888,\"#fdca26\"],[1.0,\"#f0f921\"]]}],\"contourcarpet\":[{\"type\":\"contourcarpet\",\"colorbar\":{\"outlinewidth\":0,\"ticks\":\"\"}}],\"contour\":[{\"type\":\"contour\",\"colorbar\":{\"outlinewidth\":0,\"ticks\":\"\"},\"colorscale\":[[0.0,\"#0d0887\"],[0.1111111111111111,\"#46039f\"],[0.2222222222222222,\"#7201a8\"],[0.3333333333333333,\"#9c179e\"],[0.4444444444444444,\"#bd3786\"],[0.5555555555555556,\"#d8576b\"],[0.6666666666666666,\"#ed7953\"],[0.7777777777777778,\"#fb9f3a\"],[0.8888888888888888,\"#fdca26\"],[1.0,\"#f0f921\"]]}],\"surface\":[{\"type\":\"surface\",\"colorbar\":{\"outlinewidth\":0,\"ticks\":\"\"},\"colorscale\":[[0.0,\"#0d0887\"],[0.1111111111111111,\"#46039f\"],[0.2222222222222222,\"#7201a8\"],[0.3333333333333333,\"#9c179e\"],[0.4444444444444444,\"#bd3786\"],[0.5555555555555556,\"#d8576b\"],[0.6666666666666666,\"#ed7953\"],[0.7777777777777778,\"#fb9f3a\"],[0.8888888888888888,\"#fdca26\"],[1.0,\"#f0f921\"]]}],\"mesh3d\":[{\"type\":\"mesh3d\",\"colorbar\":{\"outlinewidth\":0,\"ticks\":\"\"}}],\"scatter\":[{\"fillpattern\":{\"fillmode\":\"overlay\",\"size\":10,\"solidity\":0.2},\"type\":\"scatter\"}],\"parcoords\":[{\"type\":\"parcoords\",\"line\":{\"colorbar\":{\"outlinewidth\":0,\"ticks\":\"\"}}}],\"scatterpolargl\":[{\"type\":\"scatterpolargl\",\"marker\":{\"colorbar\":{\"outlinewidth\":0,\"ticks\":\"\"}}}],\"bar\":[{\"error_x\":{\"color\":\"#2a3f5f\"},\"error_y\":{\"color\":\"#2a3f5f\"},\"marker\":{\"line\":{\"color\":\"#E5ECF6\",\"width\":0.5},\"pattern\":{\"fillmode\":\"overlay\",\"size\":10,\"solidity\":0.2}},\"type\":\"bar\"}],\"scattergeo\":[{\"type\":\"scattergeo\",\"marker\":{\"colorbar\":{\"outlinewidth\":0,\"ticks\":\"\"}}}],\"scatterpolar\":[{\"type\":\"scatterpolar\",\"marker\":{\"colorbar\":{\"outlinewidth\":0,\"ticks\":\"\"}}}],\"histogram\":[{\"marker\":{\"pattern\":{\"fillmode\":\"overlay\",\"size\":10,\"solidity\":0.2}},\"type\":\"histogram\"}],\"scattergl\":[{\"type\":\"scattergl\",\"marker\":{\"colorbar\":{\"outlinewidth\":0,\"ticks\":\"\"}}}],\"scatter3d\":[{\"type\":\"scatter3d\",\"line\":{\"colorbar\":{\"outlinewidth\":0,\"ticks\":\"\"}},\"marker\":{\"colorbar\":{\"outlinewidth\":0,\"ticks\":\"\"}}}],\"scattermapbox\":[{\"type\":\"scattermapbox\",\"marker\":{\"colorbar\":{\"outlinewidth\":0,\"ticks\":\"\"}}}],\"scatterternary\":[{\"type\":\"scatterternary\",\"marker\":{\"colorbar\":{\"outlinewidth\":0,\"ticks\":\"\"}}}],\"scattercarpet\":[{\"type\":\"scattercarpet\",\"marker\":{\"colorbar\":{\"outlinewidth\":0,\"ticks\":\"\"}}}],\"carpet\":[{\"aaxis\":{\"endlinecolor\":\"#2a3f5f\",\"gridcolor\":\"white\",\"linecolor\":\"white\",\"minorgridcolor\":\"white\",\"startlinecolor\":\"#2a3f5f\"},\"baxis\":{\"endlinecolor\":\"#2a3f5f\",\"gridcolor\":\"white\",\"linecolor\":\"white\",\"minorgridcolor\":\"white\",\"startlinecolor\":\"#2a3f5f\"},\"type\":\"carpet\"}],\"table\":[{\"cells\":{\"fill\":{\"color\":\"#EBF0F8\"},\"line\":{\"color\":\"white\"}},\"header\":{\"fill\":{\"color\":\"#C8D4E3\"},\"line\":{\"color\":\"white\"}},\"type\":\"table\"}],\"barpolar\":[{\"marker\":{\"line\":{\"color\":\"#E5ECF6\",\"width\":0.5},\"pattern\":{\"fillmode\":\"overlay\",\"size\":10,\"solidity\":0.2}},\"type\":\"barpolar\"}],\"pie\":[{\"automargin\":true,\"type\":\"pie\"}]},\"layout\":{\"autotypenumbers\":\"strict\",\"colorway\":[\"#636efa\",\"#EF553B\",\"#00cc96\",\"#ab63fa\",\"#FFA15A\",\"#19d3f3\",\"#FF6692\",\"#B6E880\",\"#FF97FF\",\"#FECB52\"],\"font\":{\"color\":\"#2a3f5f\"},\"hovermode\":\"closest\",\"hoverlabel\":{\"align\":\"left\"},\"paper_bgcolor\":\"white\",\"plot_bgcolor\":\"#E5ECF6\",\"polar\":{\"bgcolor\":\"#E5ECF6\",\"angularaxis\":{\"gridcolor\":\"white\",\"linecolor\":\"white\",\"ticks\":\"\"},\"radialaxis\":{\"gridcolor\":\"white\",\"linecolor\":\"white\",\"ticks\":\"\"}},\"ternary\":{\"bgcolor\":\"#E5ECF6\",\"aaxis\":{\"gridcolor\":\"white\",\"linecolor\":\"white\",\"ticks\":\"\"},\"baxis\":{\"gridcolor\":\"white\",\"linecolor\":\"white\",\"ticks\":\"\"},\"caxis\":{\"gridcolor\":\"white\",\"linecolor\":\"white\",\"ticks\":\"\"}},\"coloraxis\":{\"colorbar\":{\"outlinewidth\":0,\"ticks\":\"\"}},\"colorscale\":{\"sequential\":[[0.0,\"#0d0887\"],[0.1111111111111111,\"#46039f\"],[0.2222222222222222,\"#7201a8\"],[0.3333333333333333,\"#9c179e\"],[0.4444444444444444,\"#bd3786\"],[0.5555555555555556,\"#d8576b\"],[0.6666666666666666,\"#ed7953\"],[0.7777777777777778,\"#fb9f3a\"],[0.8888888888888888,\"#fdca26\"],[1.0,\"#f0f921\"]],\"sequentialminus\":[[0.0,\"#0d0887\"],[0.1111111111111111,\"#46039f\"],[0.2222222222222222,\"#7201a8\"],[0.3333333333333333,\"#9c179e\"],[0.4444444444444444,\"#bd3786\"],[0.5555555555555556,\"#d8576b\"],[0.6666666666666666,\"#ed7953\"],[0.7777777777777778,\"#fb9f3a\"],[0.8888888888888888,\"#fdca26\"],[1.0,\"#f0f921\"]],\"diverging\":[[0,\"#8e0152\"],[0.1,\"#c51b7d\"],[0.2,\"#de77ae\"],[0.3,\"#f1b6da\"],[0.4,\"#fde0ef\"],[0.5,\"#f7f7f7\"],[0.6,\"#e6f5d0\"],[0.7,\"#b8e186\"],[0.8,\"#7fbc41\"],[0.9,\"#4d9221\"],[1,\"#276419\"]]},\"xaxis\":{\"gridcolor\":\"white\",\"linecolor\":\"white\",\"ticks\":\"\",\"title\":{\"standoff\":15},\"zerolinecolor\":\"white\",\"automargin\":true,\"zerolinewidth\":2},\"yaxis\":{\"gridcolor\":\"white\",\"linecolor\":\"white\",\"ticks\":\"\",\"title\":{\"standoff\":15},\"zerolinecolor\":\"white\",\"automargin\":true,\"zerolinewidth\":2},\"scene\":{\"xaxis\":{\"backgroundcolor\":\"#E5ECF6\",\"gridcolor\":\"white\",\"linecolor\":\"white\",\"showbackground\":true,\"ticks\":\"\",\"zerolinecolor\":\"white\",\"gridwidth\":2},\"yaxis\":{\"backgroundcolor\":\"#E5ECF6\",\"gridcolor\":\"white\",\"linecolor\":\"white\",\"showbackground\":true,\"ticks\":\"\",\"zerolinecolor\":\"white\",\"gridwidth\":2},\"zaxis\":{\"backgroundcolor\":\"#E5ECF6\",\"gridcolor\":\"white\",\"linecolor\":\"white\",\"showbackground\":true,\"ticks\":\"\",\"zerolinecolor\":\"white\",\"gridwidth\":2}},\"shapedefaults\":{\"line\":{\"color\":\"#2a3f5f\"}},\"annotationdefaults\":{\"arrowcolor\":\"#2a3f5f\",\"arrowhead\":0,\"arrowwidth\":1},\"geo\":{\"bgcolor\":\"white\",\"landcolor\":\"#E5ECF6\",\"subunitcolor\":\"white\",\"showland\":true,\"showlakes\":true,\"lakecolor\":\"white\"},\"title\":{\"x\":0.05},\"mapbox\":{\"style\":\"light\"}}},\"yaxis\":{\"autorange\":true,\"showgrid\":true,\"zeroline\":true,\"dtick\":10,\"gridcolor\":\"rgb(240, 240, 240)\",\"gridwidth\":1,\"zerolinecolor\":\"rgb(240, 240, 240)\",\"zerolinewidth\":1.2},\"margin\":{\"l\":40,\"r\":30,\"b\":80,\"t\":50},\"font\":{\"family\":\"Arial\",\"size\":20,\"color\":\"black\"},\"title\":{\"text\":\"H0 total persistence\"},\"width\":600,\"height\":500,\"paper_bgcolor\":\"rgb(255, 255, 255)\",\"plot_bgcolor\":\"rgb(255, 255, 255)\",\"showlegend\":false},                        {\"responsive\": true}                    ).then(function(){\n",
       "                            \n",
       "var gd = document.getElementById('16e9471f-36ce-4814-8ee8-ecafc120c651');\n",
       "var x = new MutationObserver(function (mutations, observer) {{\n",
       "        var display = window.getComputedStyle(gd).display;\n",
       "        if (!display || display === 'none') {{\n",
       "            console.log([gd, 'removed!']);\n",
       "            Plotly.purge(gd);\n",
       "            observer.disconnect();\n",
       "        }}\n",
       "}});\n",
       "\n",
       "// Listen for the removal of the full notebook cells\n",
       "var notebookContainer = gd.closest('#notebook-container');\n",
       "if (notebookContainer) {{\n",
       "    x.observe(notebookContainer, {childList: true});\n",
       "}}\n",
       "\n",
       "// Listen for the clearing of the current output cell\n",
       "var outputEl = gd.closest('.output');\n",
       "if (outputEl) {{\n",
       "    x.observe(outputEl, {childList: true});\n",
       "}}\n",
       "\n",
       "                        })                };                });            </script>        </div>"
      ]
     },
     "metadata": {},
     "output_type": "display_data"
    }
   ],
   "source": [
    "import plotly\n",
    "import plotly.graph_objects as go\n",
    "xx = x_h0_tp.copy()\n",
    "x_data = ['d0','d1','d1.5','d2','d2.5','d3']\n",
    "y_data = []\n",
    "for i in range(len(unique_times)):\n",
    "    tmp_idx = np.where(times==unique_times[i])[0]\n",
    "    y_data.append(xx[tmp_idx])\n",
    "colors = list( np.array(px.colors.sequential.Viridis)[np.array([0,1,3,5,7,9])] )\n",
    "\n",
    "fig = go.Figure()\n",
    "\n",
    "for xd, yd, cls in zip(x_data, y_data, colors):\n",
    "        fig.add_trace(go.Box(\n",
    "            y=yd,\n",
    "            name=xd,\n",
    "            boxpoints='all',\n",
    "            jitter=0.2,\n",
    "            whiskerwidth=0.5,\n",
    "            fillcolor=cls,\n",
    "            marker={'color':cls},\n",
    "            line={'color':'#444'},\n",
    "            marker_size=2,\n",
    "            line_width=1)\n",
    "        )\n",
    "\n",
    "fig.update_layout(\n",
    "    title=\"H0 total persistence\",\n",
    "    yaxis=dict(\n",
    "        autorange=True,\n",
    "        showgrid=True,\n",
    "        zeroline=True,\n",
    "        dtick=10,\n",
    "        gridcolor='rgb(240, 240, 240)',\n",
    "        gridwidth=1,\n",
    "        zerolinecolor='rgb(240, 240, 240)',\n",
    "        zerolinewidth=1.2,\n",
    "    ),\n",
    "    margin=dict(\n",
    "        l=40,\n",
    "        r=30,\n",
    "        b=80,\n",
    "        t=50,\n",
    "    ),\n",
    "    width = 600,\n",
    "    height = 500,\n",
    "    font=dict(\n",
    "        family=\"Arial\",\n",
    "        size=20,\n",
    "        color=\"black\"\n",
    "    ),\n",
    "    paper_bgcolor='rgb(255, 255, 255)',\n",
    "    plot_bgcolor='rgb(255, 255, 255)',\n",
    "    showlegend=False\n",
    ")\n",
    "\n",
    "fig.show()\n",
    "fig.write_image(\"./boxplot_lwph_h0_tp.pdf\")"
   ]
  }
 ],
 "metadata": {
  "kernelspec": {
   "display_name": "Python [conda env:scgeom_release_env] *",
   "language": "python",
   "name": "conda-env-scgeom_release_env-py"
  },
  "language_info": {
   "codemirror_mode": {
    "name": "ipython",
    "version": 3
   },
   "file_extension": ".py",
   "mimetype": "text/x-python",
   "name": "python",
   "nbconvert_exporter": "python",
   "pygments_lexer": "ipython3",
   "version": "3.9.0"
  }
 },
 "nbformat": 4,
 "nbformat_minor": 5
}
